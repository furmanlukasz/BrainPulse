{
 "cells": [
  {
   "cell_type": "code",
   "execution_count": 1,
   "metadata": {
    "collapsed": true,
    "pycharm": {
     "name": "#%%\n"
    }
   },
   "outputs": [
    {
     "name": "stdout",
     "output_type": "stream",
     "text": [
      "time: 4.54 s (started: 2022-07-09 18:37:45 +02:00)\n"
     ]
    }
   ],
   "source": [
    "import matplotlib.pyplot as plt\n",
    "%matplotlib inline\n",
    "%load_ext autotime\n",
    "import mne\n",
    "import numpy as np\n",
    "from BrainPulse import (dataset,\n",
    "                        vector_space,\n",
    "                        distance_matrix,\n",
    "                        recurrence_quantification_analysis,\n",
    "                        features_space,\n",
    "                        plot)\n",
    "import pandas as pd\n",
    "from tqdm import tqdm"
   ]
  },
  {
   "cell_type": "code",
   "execution_count": 2,
   "outputs": [
    {
     "name": "stdout",
     "output_type": "stream",
     "text": [
      "time: 789 µs (started: 2022-07-09 18:37:53 +02:00)\n"
     ]
    }
   ],
   "source": [
    "def normalize(tSignal):\n",
    "    # copy the data if needed, omit and rename function argument if desired\n",
    "    signal = np.copy(tSignal) # signal is in range [a;b]\n",
    "    signal -= np.min(signal) # signal is in range to [0;b-a]\n",
    "    signal /= np.max(signal) # signal is normalized to [0;1]\n",
    "    signal -= 0.5 # signal is in range [-0.5;0.5]\n",
    "    signal *=2 # signal is in range [-1;1]\n",
    "    return signal"
   ],
   "metadata": {
    "collapsed": false,
    "pycharm": {
     "name": "#%%\n"
    }
   }
  },
  {
   "cell_type": "code",
   "execution_count": 20,
   "outputs": [
    {
     "name": "stdout",
     "output_type": "stream",
     "text": [
      "time: 435 µs (started: 2022-07-09 19:24:46 +02:00)\n"
     ]
    }
   ],
   "source": [
    "number_of_subjects = [0,10]\n",
    "t_start = 0\n",
    "t_end = 30\n",
    "fir_filter = [2.0, 50.0]\n",
    "\n",
    "min_vert_line_len_ = 10\n",
    "win_len = 240\n",
    "n_fft = 512\n",
    "\n",
    "percentile_var = 22\n",
    "\n",
    "results_parameters_tdemb = []\n",
    "results_parameters_stft = []"
   ],
   "metadata": {
    "collapsed": false,
    "pycharm": {
     "name": "#%%\n"
    }
   }
  },
  {
   "cell_type": "code",
   "execution_count": 21,
   "outputs": [
    {
     "name": "stderr",
     "output_type": "stream",
     "text": [
      "  0%|          | 0/9 [00:00<?, ?it/s]"
     ]
    },
    {
     "name": "stdout",
     "output_type": "stream",
     "text": [
      "1\n",
      "Not setting metadata\n",
      "200 matching events found\n",
      "No baseline correction applied\n",
      "0 projection items activated\n",
      "0 bad epochs dropped\n",
      "Not setting metadata\n",
      "50 matching events found\n",
      "No baseline correction applied\n",
      "0 projection items activated\n",
      "0 bad epochs dropped\n",
      "Not setting metadata\n",
      "2 matching events found\n",
      "No baseline correction applied\n",
      "0 projection items activated\n",
      "0 bad epochs dropped\n"
     ]
    },
    {
     "name": "stderr",
     "output_type": "stream",
     "text": [
      "/Users/luki/DataspellProjects/BrainPulse_Project/BrainPulse/dataset.py:85: VisibleDeprecationWarning: Creating an ndarray from ragged nested sequences (which is a list-or-tuple of lists-or-tuples-or ndarrays with different lengths or shapes) is deprecated. If you meant to do this, you must specify 'dtype=object' when creating the ndarray.\n",
      "  return EpochsArray(epochs,info,tmin=-0.2), np.array(raw)\n",
      "\n",
      "  0%|          | 0/16 [00:00<?, ?it/s]\u001B[A\n",
      " 25%|██▌       | 4/16 [00:00<00:00, 32.47it/s]\u001B[A\n",
      " 50%|█████     | 8/16 [00:00<00:00, 33.12it/s]\u001B[A\n",
      " 75%|███████▌  | 12/16 [00:00<00:00, 32.79it/s]\u001B[A\n",
      "100%|██████████| 16/16 [00:00<00:00, 32.87it/s]\u001B[A\n",
      "\n",
      "  0%|          | 0/16 [00:00<?, ?it/s]\u001B[A\n",
      " 25%|██▌       | 4/16 [00:00<00:00, 32.21it/s]\u001B[A\n",
      " 50%|█████     | 8/16 [00:00<00:00, 33.00it/s]\u001B[A\n",
      " 75%|███████▌  | 12/16 [00:00<00:00, 32.56it/s]\u001B[A\n",
      "100%|██████████| 16/16 [00:00<00:00, 32.36it/s]\u001B[A\n",
      " 11%|█         | 1/9 [00:01<00:08,  1.05s/it]"
     ]
    },
    {
     "name": "stdout",
     "output_type": "stream",
     "text": [
      "2\n",
      "Not setting metadata\n",
      "200 matching events found\n",
      "No baseline correction applied\n",
      "0 projection items activated\n",
      "0 bad epochs dropped\n",
      "Not setting metadata\n",
      "50 matching events found\n",
      "No baseline correction applied\n",
      "0 projection items activated\n",
      "0 bad epochs dropped\n",
      "Not setting metadata\n",
      "2 matching events found\n",
      "No baseline correction applied\n",
      "0 projection items activated\n",
      "0 bad epochs dropped\n"
     ]
    },
    {
     "name": "stderr",
     "output_type": "stream",
     "text": [
      "/Users/luki/DataspellProjects/BrainPulse_Project/BrainPulse/dataset.py:85: VisibleDeprecationWarning: Creating an ndarray from ragged nested sequences (which is a list-or-tuple of lists-or-tuples-or ndarrays with different lengths or shapes) is deprecated. If you meant to do this, you must specify 'dtype=object' when creating the ndarray.\n",
      "  return EpochsArray(epochs,info,tmin=-0.2), np.array(raw)\n",
      "\n",
      "  0%|          | 0/16 [00:00<?, ?it/s]\u001B[A\n",
      " 25%|██▌       | 4/16 [00:00<00:00, 32.16it/s]\u001B[A\n",
      " 50%|█████     | 8/16 [00:00<00:00, 32.32it/s]\u001B[A\n",
      " 75%|███████▌  | 12/16 [00:00<00:00, 30.57it/s]\u001B[A\n",
      "100%|██████████| 16/16 [00:00<00:00, 31.16it/s]\u001B[A\n",
      "\n",
      "  0%|          | 0/16 [00:00<?, ?it/s]\u001B[A\n",
      " 25%|██▌       | 4/16 [00:00<00:00, 32.44it/s]\u001B[A\n",
      " 50%|█████     | 8/16 [00:00<00:00, 32.84it/s]\u001B[A\n",
      " 75%|███████▌  | 12/16 [00:00<00:00, 32.28it/s]\u001B[A\n",
      "100%|██████████| 16/16 [00:00<00:00, 32.07it/s]\u001B[A\n",
      " 22%|██▏       | 2/9 [00:02<00:07,  1.07s/it]"
     ]
    },
    {
     "name": "stdout",
     "output_type": "stream",
     "text": [
      "3\n",
      "Not setting metadata\n",
      "200 matching events found\n",
      "No baseline correction applied\n",
      "0 projection items activated\n",
      "0 bad epochs dropped\n",
      "Not setting metadata\n",
      "50 matching events found\n",
      "No baseline correction applied\n",
      "0 projection items activated\n",
      "0 bad epochs dropped\n",
      "Not setting metadata\n",
      "2 matching events found\n",
      "No baseline correction applied\n",
      "0 projection items activated\n",
      "0 bad epochs dropped\n"
     ]
    },
    {
     "name": "stderr",
     "output_type": "stream",
     "text": [
      "/Users/luki/DataspellProjects/BrainPulse_Project/BrainPulse/dataset.py:85: VisibleDeprecationWarning: Creating an ndarray from ragged nested sequences (which is a list-or-tuple of lists-or-tuples-or ndarrays with different lengths or shapes) is deprecated. If you meant to do this, you must specify 'dtype=object' when creating the ndarray.\n",
      "  return EpochsArray(epochs,info,tmin=-0.2), np.array(raw)\n",
      "\n",
      "  0%|          | 0/16 [00:00<?, ?it/s]\u001B[A\n",
      " 25%|██▌       | 4/16 [00:00<00:00, 33.18it/s]\u001B[A\n",
      " 50%|█████     | 8/16 [00:00<00:00, 33.06it/s]\u001B[A\n",
      " 75%|███████▌  | 12/16 [00:00<00:00, 33.52it/s]\u001B[A\n",
      "100%|██████████| 16/16 [00:00<00:00, 33.28it/s]\u001B[A\n",
      "\n",
      "  0%|          | 0/16 [00:00<?, ?it/s]\u001B[A\n",
      " 25%|██▌       | 4/16 [00:00<00:00, 34.30it/s]\u001B[A\n",
      " 50%|█████     | 8/16 [00:00<00:00, 34.04it/s]\u001B[A\n",
      " 75%|███████▌  | 12/16 [00:00<00:00, 32.74it/s]\u001B[A\n",
      "100%|██████████| 16/16 [00:00<00:00, 32.73it/s]\u001B[A\n",
      " 33%|███▎      | 3/9 [00:03<00:06,  1.06s/it]"
     ]
    },
    {
     "name": "stdout",
     "output_type": "stream",
     "text": [
      "4\n",
      "Not setting metadata\n",
      "200 matching events found\n",
      "No baseline correction applied\n",
      "0 projection items activated\n",
      "0 bad epochs dropped\n",
      "Not setting metadata\n",
      "50 matching events found\n",
      "No baseline correction applied\n",
      "0 projection items activated\n",
      "0 bad epochs dropped\n",
      "Not setting metadata\n",
      "2 matching events found\n",
      "No baseline correction applied\n",
      "0 projection items activated\n",
      "0 bad epochs dropped\n"
     ]
    },
    {
     "name": "stderr",
     "output_type": "stream",
     "text": [
      "/Users/luki/DataspellProjects/BrainPulse_Project/BrainPulse/dataset.py:85: VisibleDeprecationWarning: Creating an ndarray from ragged nested sequences (which is a list-or-tuple of lists-or-tuples-or ndarrays with different lengths or shapes) is deprecated. If you meant to do this, you must specify 'dtype=object' when creating the ndarray.\n",
      "  return EpochsArray(epochs,info,tmin=-0.2), np.array(raw)\n",
      "\n",
      "  0%|          | 0/16 [00:00<?, ?it/s]\u001B[A\n",
      " 25%|██▌       | 4/16 [00:00<00:00, 32.74it/s]\u001B[A\n",
      " 50%|█████     | 8/16 [00:00<00:00, 32.29it/s]\u001B[A\n",
      " 75%|███████▌  | 12/16 [00:00<00:00, 31.98it/s]\u001B[A\n",
      "100%|██████████| 16/16 [00:00<00:00, 31.79it/s]\u001B[A\n",
      "\n",
      "  0%|          | 0/16 [00:00<?, ?it/s]\u001B[A\n",
      " 25%|██▌       | 4/16 [00:00<00:00, 33.40it/s]\u001B[A\n",
      " 50%|█████     | 8/16 [00:00<00:00, 32.88it/s]\u001B[A\n",
      " 75%|███████▌  | 12/16 [00:00<00:00, 31.89it/s]\u001B[A\n",
      "100%|██████████| 16/16 [00:00<00:00, 32.17it/s]\u001B[A\n",
      " 44%|████▍     | 4/9 [00:04<00:05,  1.06s/it]"
     ]
    },
    {
     "name": "stdout",
     "output_type": "stream",
     "text": [
      "5\n",
      "Not setting metadata\n",
      "200 matching events found\n",
      "No baseline correction applied\n",
      "0 projection items activated\n",
      "0 bad epochs dropped\n",
      "Not setting metadata\n",
      "50 matching events found\n",
      "No baseline correction applied\n",
      "0 projection items activated\n",
      "0 bad epochs dropped\n",
      "Not setting metadata\n",
      "2 matching events found\n",
      "No baseline correction applied\n",
      "0 projection items activated\n",
      "0 bad epochs dropped\n"
     ]
    },
    {
     "name": "stderr",
     "output_type": "stream",
     "text": [
      "/Users/luki/DataspellProjects/BrainPulse_Project/BrainPulse/dataset.py:85: VisibleDeprecationWarning: Creating an ndarray from ragged nested sequences (which is a list-or-tuple of lists-or-tuples-or ndarrays with different lengths or shapes) is deprecated. If you meant to do this, you must specify 'dtype=object' when creating the ndarray.\n",
      "  return EpochsArray(epochs,info,tmin=-0.2), np.array(raw)\n",
      "\n",
      "  0%|          | 0/16 [00:00<?, ?it/s]\u001B[A\n",
      " 25%|██▌       | 4/16 [00:00<00:00, 32.92it/s]\u001B[A\n",
      " 50%|█████     | 8/16 [00:00<00:00, 33.24it/s]\u001B[A\n",
      " 75%|███████▌  | 12/16 [00:00<00:00, 32.64it/s]\u001B[A\n",
      "100%|██████████| 16/16 [00:00<00:00, 32.81it/s]\u001B[A\n",
      "\n",
      "  0%|          | 0/16 [00:00<?, ?it/s]\u001B[A\n",
      " 25%|██▌       | 4/16 [00:00<00:00, 33.27it/s]\u001B[A\n",
      " 50%|█████     | 8/16 [00:00<00:00, 32.41it/s]\u001B[A\n",
      " 75%|███████▌  | 12/16 [00:00<00:00, 32.00it/s]\u001B[A\n",
      "100%|██████████| 16/16 [00:00<00:00, 32.39it/s]\u001B[A\n",
      " 56%|█████▌    | 5/9 [00:05<00:04,  1.06s/it]"
     ]
    },
    {
     "name": "stdout",
     "output_type": "stream",
     "text": [
      "6\n",
      "Not setting metadata\n",
      "200 matching events found\n",
      "No baseline correction applied\n",
      "0 projection items activated\n",
      "0 bad epochs dropped\n",
      "Not setting metadata\n",
      "50 matching events found\n",
      "No baseline correction applied\n",
      "0 projection items activated\n",
      "0 bad epochs dropped\n",
      "Not setting metadata\n",
      "2 matching events found\n",
      "No baseline correction applied\n",
      "0 projection items activated\n",
      "0 bad epochs dropped\n"
     ]
    },
    {
     "name": "stderr",
     "output_type": "stream",
     "text": [
      "/Users/luki/DataspellProjects/BrainPulse_Project/BrainPulse/dataset.py:85: VisibleDeprecationWarning: Creating an ndarray from ragged nested sequences (which is a list-or-tuple of lists-or-tuples-or ndarrays with different lengths or shapes) is deprecated. If you meant to do this, you must specify 'dtype=object' when creating the ndarray.\n",
      "  return EpochsArray(epochs,info,tmin=-0.2), np.array(raw)\n",
      "\n",
      "  0%|          | 0/16 [00:00<?, ?it/s]\u001B[A\n",
      " 25%|██▌       | 4/16 [00:00<00:00, 32.58it/s]\u001B[A\n",
      " 50%|█████     | 8/16 [00:00<00:00, 33.01it/s]\u001B[A\n",
      " 75%|███████▌  | 12/16 [00:00<00:00, 32.78it/s]\u001B[A\n",
      "100%|██████████| 16/16 [00:00<00:00, 32.76it/s]\u001B[A\n",
      "\n",
      "  0%|          | 0/16 [00:00<?, ?it/s]\u001B[A\n",
      " 25%|██▌       | 4/16 [00:00<00:00, 34.43it/s]\u001B[A\n",
      " 50%|█████     | 8/16 [00:00<00:00, 34.12it/s]\u001B[A\n",
      " 75%|███████▌  | 12/16 [00:00<00:00, 33.67it/s]\u001B[A\n",
      "100%|██████████| 16/16 [00:00<00:00, 33.75it/s]\u001B[A\n",
      " 67%|██████▋   | 6/9 [00:06<00:03,  1.05s/it]"
     ]
    },
    {
     "name": "stdout",
     "output_type": "stream",
     "text": [
      "7\n",
      "Not setting metadata\n",
      "200 matching events found\n",
      "No baseline correction applied\n",
      "0 projection items activated\n",
      "0 bad epochs dropped\n",
      "Not setting metadata\n",
      "50 matching events found\n",
      "No baseline correction applied\n",
      "0 projection items activated\n",
      "0 bad epochs dropped\n",
      "Not setting metadata\n",
      "2 matching events found\n",
      "No baseline correction applied\n",
      "0 projection items activated\n",
      "0 bad epochs dropped\n"
     ]
    },
    {
     "name": "stderr",
     "output_type": "stream",
     "text": [
      "/Users/luki/DataspellProjects/BrainPulse_Project/BrainPulse/dataset.py:85: VisibleDeprecationWarning: Creating an ndarray from ragged nested sequences (which is a list-or-tuple of lists-or-tuples-or ndarrays with different lengths or shapes) is deprecated. If you meant to do this, you must specify 'dtype=object' when creating the ndarray.\n",
      "  return EpochsArray(epochs,info,tmin=-0.2), np.array(raw)\n",
      "\n",
      "  0%|          | 0/16 [00:00<?, ?it/s]\u001B[A\n",
      " 25%|██▌       | 4/16 [00:00<00:00, 33.20it/s]\u001B[A\n",
      " 50%|█████     | 8/16 [00:00<00:00, 33.67it/s]\u001B[A\n",
      " 75%|███████▌  | 12/16 [00:00<00:00, 32.38it/s]\u001B[A\n",
      "100%|██████████| 16/16 [00:00<00:00, 32.76it/s]\u001B[A\n",
      "\n",
      "  0%|          | 0/16 [00:00<?, ?it/s]\u001B[A\n",
      " 25%|██▌       | 4/16 [00:00<00:00, 34.43it/s]\u001B[A\n",
      " 50%|█████     | 8/16 [00:00<00:00, 33.65it/s]\u001B[A\n",
      " 75%|███████▌  | 12/16 [00:00<00:00, 33.39it/s]\u001B[A\n",
      "100%|██████████| 16/16 [00:00<00:00, 33.19it/s]\u001B[A\n",
      " 78%|███████▊  | 7/9 [00:07<00:02,  1.05s/it]"
     ]
    },
    {
     "name": "stdout",
     "output_type": "stream",
     "text": [
      "8\n",
      "Not setting metadata\n",
      "200 matching events found\n",
      "No baseline correction applied\n",
      "0 projection items activated\n",
      "0 bad epochs dropped\n",
      "Not setting metadata\n",
      "50 matching events found\n",
      "No baseline correction applied\n",
      "0 projection items activated\n",
      "0 bad epochs dropped\n",
      "Not setting metadata\n",
      "2 matching events found\n",
      "No baseline correction applied\n",
      "0 projection items activated\n",
      "0 bad epochs dropped\n"
     ]
    },
    {
     "name": "stderr",
     "output_type": "stream",
     "text": [
      "/Users/luki/DataspellProjects/BrainPulse_Project/BrainPulse/dataset.py:85: VisibleDeprecationWarning: Creating an ndarray from ragged nested sequences (which is a list-or-tuple of lists-or-tuples-or ndarrays with different lengths or shapes) is deprecated. If you meant to do this, you must specify 'dtype=object' when creating the ndarray.\n",
      "  return EpochsArray(epochs,info,tmin=-0.2), np.array(raw)\n",
      "\n",
      "  0%|          | 0/16 [00:00<?, ?it/s]\u001B[A\n",
      " 25%|██▌       | 4/16 [00:00<00:00, 33.37it/s]\u001B[A\n",
      " 50%|█████     | 8/16 [00:00<00:00, 33.80it/s]\u001B[A\n",
      " 75%|███████▌  | 12/16 [00:00<00:00, 33.48it/s]\u001B[A\n",
      "100%|██████████| 16/16 [00:00<00:00, 33.69it/s]\u001B[A\n",
      "\n",
      "  0%|          | 0/16 [00:00<?, ?it/s]\u001B[A\n",
      " 25%|██▌       | 4/16 [00:00<00:00, 34.73it/s]\u001B[A\n",
      " 50%|█████     | 8/16 [00:00<00:00, 34.58it/s]\u001B[A\n",
      " 75%|███████▌  | 12/16 [00:00<00:00, 34.32it/s]\u001B[A\n",
      "100%|██████████| 16/16 [00:00<00:00, 34.36it/s]\u001B[A\n",
      " 89%|████████▉ | 8/9 [00:08<00:01,  1.04s/it]"
     ]
    },
    {
     "name": "stdout",
     "output_type": "stream",
     "text": [
      "9\n",
      "Not setting metadata\n",
      "200 matching events found\n",
      "No baseline correction applied\n",
      "0 projection items activated\n",
      "0 bad epochs dropped\n",
      "Not setting metadata\n",
      "50 matching events found\n",
      "No baseline correction applied\n",
      "0 projection items activated\n",
      "0 bad epochs dropped\n",
      "Not setting metadata\n",
      "2 matching events found\n",
      "No baseline correction applied\n",
      "0 projection items activated\n",
      "0 bad epochs dropped\n"
     ]
    },
    {
     "name": "stderr",
     "output_type": "stream",
     "text": [
      "/Users/luki/DataspellProjects/BrainPulse_Project/BrainPulse/dataset.py:85: VisibleDeprecationWarning: Creating an ndarray from ragged nested sequences (which is a list-or-tuple of lists-or-tuples-or ndarrays with different lengths or shapes) is deprecated. If you meant to do this, you must specify 'dtype=object' when creating the ndarray.\n",
      "  return EpochsArray(epochs,info,tmin=-0.2), np.array(raw)\n",
      "\n",
      "  0%|          | 0/16 [00:00<?, ?it/s]\u001B[A\n",
      " 25%|██▌       | 4/16 [00:00<00:00, 33.08it/s]\u001B[A\n",
      " 50%|█████     | 8/16 [00:00<00:00, 34.06it/s]\u001B[A\n",
      " 75%|███████▌  | 12/16 [00:00<00:00, 33.60it/s]\u001B[A\n",
      "100%|██████████| 16/16 [00:00<00:00, 33.66it/s]\u001B[A\n",
      "\n",
      "  0%|          | 0/16 [00:00<?, ?it/s]\u001B[A\n",
      " 25%|██▌       | 4/16 [00:00<00:00, 33.58it/s]\u001B[A\n",
      " 50%|█████     | 8/16 [00:00<00:00, 33.87it/s]\u001B[A\n",
      " 75%|███████▌  | 12/16 [00:00<00:00, 30.87it/s]\u001B[A\n",
      "100%|██████████| 16/16 [00:00<00:00, 31.88it/s]\u001B[A\n",
      "100%|██████████| 9/9 [00:09<00:00,  1.05s/it]"
     ]
    },
    {
     "name": "stdout",
     "output_type": "stream",
     "text": [
      "time: 9.44 s (started: 2022-07-09 19:24:46 +02:00)\n"
     ]
    },
    {
     "name": "stderr",
     "output_type": "stream",
     "text": [
      "\n"
     ]
    }
   ],
   "source": [
    "\n",
    "for n in tqdm(range(number_of_subjects[0]+1,number_of_subjects[1])):\n",
    "    print(n)\n",
    "    Subject_id = 'S'+ str(f'{n:03}')\n",
    "    # run, raw = dataset.eegbci_data(tmin=t_start, tmax=t_end, subject=n, filter_range=fir_filter)\n",
    "    run, raw = dataset.eegMCI_data(stim_type='AV', subject=n, run_type='test.dat_2', path_to_data_folder='auditory_visual_audiovisual')\n",
    "\n",
    "    for task, task_io in zip(run, ['no_target','target']):\n",
    "        for eid in tqdm(range(16)):\n",
    "        # for eid, electrode in enumerate(task):\n",
    "        #     signal = electrode * 1e6\n",
    "            signal = task[eid]\n",
    "\n",
    "            norm_signal = normalize(signal)\n",
    "\n",
    "            matrix_tdemb = distance_matrix.EuclideanPyRQA_RP(norm_signal, embedding=5, timedelay=9)\n",
    "            nbr_tdemb = np.percentile(matrix_tdemb, percentile_var)\n",
    "            matrix_binary_tdemb = distance_matrix.set_epsilon(matrix_tdemb, nbr_tdemb)\n",
    "\n",
    "            result_rqa_tdemb = recurrence_quantification_analysis.get_results(matrix_binary_tdemb,2,min_vert_line_len_,2)\n",
    "            results_parameters_tdemb.append([Subject_id, task_io, run.ch_names[eid]] + result_rqa_tdemb)\n",
    "            # plt.imshow(matrix_binary_tdemb, cmap='cividis', origin='lower')\n",
    "\n",
    "            cut_freq = 60\n",
    "            stft = vector_space.compute_stft(norm_signal,\n",
    "                                             n_fft=n_fft, win_len=win_len,\n",
    "                                             s_rate=run.info['sfreq'],\n",
    "                                             cut_freq=cut_freq)\n",
    "\n",
    "            matrix_stft = distance_matrix.EuclideanPyRQA_RP_stft(stft)\n",
    "            nbr_stft = np.percentile(matrix_stft, percentile_var)\n",
    "            matrix_binary_stft = distance_matrix.set_epsilon(matrix_stft, nbr_stft)\n",
    "\n",
    "            result_rqa_stft = recurrence_quantification_analysis.get_results(matrix_binary_stft,2,min_vert_line_len_,2)\n",
    "            results_parameters_stft.append([Subject_id, task_io, run.ch_names[eid]] + result_rqa_stft)\n"
   ],
   "metadata": {
    "collapsed": false,
    "pycharm": {
     "name": "#%%\n"
    }
   }
  },
  {
   "cell_type": "code",
   "execution_count": 22,
   "outputs": [
    {
     "name": "stdout",
     "output_type": "stream",
     "text": [
      "time: 1.72 ms (started: 2022-07-09 19:24:55 +02:00)\n"
     ]
    }
   ],
   "source": [
    "df_tdemb = pd.DataFrame(results_parameters_tdemb,\n",
    "                        columns=['Subject', 'Task', 'Electrode',\n",
    "                                 'RR', 'DET', 'L', 'Lmax', 'DIV',\n",
    "                                 'Lentr', 'DET_RR', 'LAM', 'V',\n",
    "                                 'Vmax', 'Ventr', 'LAM_DET', 'W',\n",
    "                                 'Wmax', 'Wentr', 'TT'])"
   ],
   "metadata": {
    "collapsed": false,
    "pycharm": {
     "name": "#%%\n"
    }
   }
  },
  {
   "cell_type": "code",
   "execution_count": 23,
   "outputs": [
    {
     "name": "stdout",
     "output_type": "stream",
     "text": [
      "time: 1.86 ms (started: 2022-07-09 19:24:55 +02:00)\n"
     ]
    }
   ],
   "source": [
    "df_stft = pd.DataFrame(results_parameters_stft,\n",
    "                       columns=['Subject', 'Task', 'Electrode',\n",
    "                                'RR', 'DET', 'L', 'Lmax', 'DIV',\n",
    "                                'Lentr', 'DET_RR', 'LAM', 'V',\n",
    "                                'Vmax', 'Ventr', 'LAM_DET', 'W',\n",
    "                                'Wmax', 'Wentr', 'TT'])"
   ],
   "metadata": {
    "collapsed": false,
    "pycharm": {
     "name": "#%%\n"
    }
   }
  },
  {
   "cell_type": "code",
   "execution_count": 24,
   "outputs": [
    {
     "name": "stdout",
     "output_type": "stream",
     "text": [
      "time: 4.26 ms (started: 2022-07-09 19:24:55 +02:00)\n"
     ]
    }
   ],
   "source": [
    "df_tdemb.to_csv('df_tdemb_30th_erp'+str(number_of_subjects[1])+'.csv')"
   ],
   "metadata": {
    "collapsed": false,
    "pycharm": {
     "name": "#%%\n"
    }
   }
  },
  {
   "cell_type": "code",
   "execution_count": 25,
   "outputs": [
    {
     "name": "stdout",
     "output_type": "stream",
     "text": [
      "time: 4.41 ms (started: 2022-07-09 19:24:55 +02:00)\n"
     ]
    }
   ],
   "source": [
    "df_stft.to_csv('df_stft_30th_erp'+str(number_of_subjects[1])+'.csv')"
   ],
   "metadata": {
    "collapsed": false,
    "pycharm": {
     "name": "#%%\n"
    }
   }
  },
  {
   "cell_type": "code",
   "execution_count": 26,
   "outputs": [
    {
     "data": {
      "text/plain": "    Subject       Task Electrode        RR       DET           L  Lmax  \\\n0      S001  no_target        Cz  0.219999  0.999879   87.668790   614   \n1      S001  no_target       CPz  0.219999  0.999758   75.067273   614   \n2      S001  no_target       POz  0.219999  0.999952   91.360619   614   \n3      S001  no_target        Pz  0.219999  0.999855   77.614662   614   \n4      S001  no_target        P1  0.219999  0.999879   74.266187   614   \n..      ...        ...       ...       ...       ...         ...   ...   \n283    S009     target        T8  0.219999  0.999952  120.745614   614   \n284    S009     target        P3  0.219999  0.999927   66.495974   614   \n285    S009     target        P4  0.219999  0.999903   97.389151   614   \n286    S009     target        F3  0.219999  0.999952   86.572327   614   \n287    S009     target        F4  0.219999  0.999879   77.909434   614   \n\n          DIV     Lentr    DET_RR       LAM           V  Vmax     Ventr  \\\n0    0.001629  4.935062  4.544932  0.999315   73.978648   131  4.660806   \n1    0.001629  4.712115  4.544381  0.999183   83.391174   159  4.732697   \n2    0.001629  4.804522  4.545262  0.999603   98.316785   210  4.788824   \n3    0.001629  4.855325  4.544821  0.997729   76.516129   159  4.752471   \n4    0.001629  4.734179  4.544932  0.998522   85.041965   173  4.866119   \n..        ...       ...       ...       ...         ...   ...       ...   \n283  0.001629  4.947448  4.545262  0.999339  120.863372   231  4.829286   \n284  0.001629  4.709035  4.545152  0.998317   78.738389   172  4.717052   \n285  0.001629  4.799371  4.545042  0.999796   96.960373   154  4.589781   \n286  0.001629  4.737748  4.545262  0.999495   94.723235   219  4.811868   \n287  0.001629  4.675537  4.544932  0.999555   89.915676   189  4.691270   \n\n      LAM_DET           W  Wmax     Wentr          TT  \n0    0.999436  197.201872   577  5.493009   74.978645  \n1    0.999425  218.364175   576  5.785279   84.242241  \n2    0.999652  231.202194   568  5.634333   99.106133  \n3    0.997874  206.157233   517  5.691414   77.083336  \n4    0.998643  222.149096   579  5.722971   85.577820  \n..        ...         ...   ...       ...         ...  \n283  0.999387  249.589679   565  5.790640  121.701019  \n284  0.998390  197.729893   518  5.637738   79.606430  \n285  0.999893  238.299677   576  5.813041   97.960373  \n286  0.999544  227.810811   571  5.663977   95.625710  \n287  0.999676  226.586790   576  5.359849   90.828293  \n\n[288 rows x 19 columns]",
      "text/html": "<div>\n<style scoped>\n    .dataframe tbody tr th:only-of-type {\n        vertical-align: middle;\n    }\n\n    .dataframe tbody tr th {\n        vertical-align: top;\n    }\n\n    .dataframe thead th {\n        text-align: right;\n    }\n</style>\n<table border=\"1\" class=\"dataframe\">\n  <thead>\n    <tr style=\"text-align: right;\">\n      <th></th>\n      <th>Subject</th>\n      <th>Task</th>\n      <th>Electrode</th>\n      <th>RR</th>\n      <th>DET</th>\n      <th>L</th>\n      <th>Lmax</th>\n      <th>DIV</th>\n      <th>Lentr</th>\n      <th>DET_RR</th>\n      <th>LAM</th>\n      <th>V</th>\n      <th>Vmax</th>\n      <th>Ventr</th>\n      <th>LAM_DET</th>\n      <th>W</th>\n      <th>Wmax</th>\n      <th>Wentr</th>\n      <th>TT</th>\n    </tr>\n  </thead>\n  <tbody>\n    <tr>\n      <th>0</th>\n      <td>S001</td>\n      <td>no_target</td>\n      <td>Cz</td>\n      <td>0.219999</td>\n      <td>0.999879</td>\n      <td>87.668790</td>\n      <td>614</td>\n      <td>0.001629</td>\n      <td>4.935062</td>\n      <td>4.544932</td>\n      <td>0.999315</td>\n      <td>73.978648</td>\n      <td>131</td>\n      <td>4.660806</td>\n      <td>0.999436</td>\n      <td>197.201872</td>\n      <td>577</td>\n      <td>5.493009</td>\n      <td>74.978645</td>\n    </tr>\n    <tr>\n      <th>1</th>\n      <td>S001</td>\n      <td>no_target</td>\n      <td>CPz</td>\n      <td>0.219999</td>\n      <td>0.999758</td>\n      <td>75.067273</td>\n      <td>614</td>\n      <td>0.001629</td>\n      <td>4.712115</td>\n      <td>4.544381</td>\n      <td>0.999183</td>\n      <td>83.391174</td>\n      <td>159</td>\n      <td>4.732697</td>\n      <td>0.999425</td>\n      <td>218.364175</td>\n      <td>576</td>\n      <td>5.785279</td>\n      <td>84.242241</td>\n    </tr>\n    <tr>\n      <th>2</th>\n      <td>S001</td>\n      <td>no_target</td>\n      <td>POz</td>\n      <td>0.219999</td>\n      <td>0.999952</td>\n      <td>91.360619</td>\n      <td>614</td>\n      <td>0.001629</td>\n      <td>4.804522</td>\n      <td>4.545262</td>\n      <td>0.999603</td>\n      <td>98.316785</td>\n      <td>210</td>\n      <td>4.788824</td>\n      <td>0.999652</td>\n      <td>231.202194</td>\n      <td>568</td>\n      <td>5.634333</td>\n      <td>99.106133</td>\n    </tr>\n    <tr>\n      <th>3</th>\n      <td>S001</td>\n      <td>no_target</td>\n      <td>Pz</td>\n      <td>0.219999</td>\n      <td>0.999855</td>\n      <td>77.614662</td>\n      <td>614</td>\n      <td>0.001629</td>\n      <td>4.855325</td>\n      <td>4.544821</td>\n      <td>0.997729</td>\n      <td>76.516129</td>\n      <td>159</td>\n      <td>4.752471</td>\n      <td>0.997874</td>\n      <td>206.157233</td>\n      <td>517</td>\n      <td>5.691414</td>\n      <td>77.083336</td>\n    </tr>\n    <tr>\n      <th>4</th>\n      <td>S001</td>\n      <td>no_target</td>\n      <td>P1</td>\n      <td>0.219999</td>\n      <td>0.999879</td>\n      <td>74.266187</td>\n      <td>614</td>\n      <td>0.001629</td>\n      <td>4.734179</td>\n      <td>4.544932</td>\n      <td>0.998522</td>\n      <td>85.041965</td>\n      <td>173</td>\n      <td>4.866119</td>\n      <td>0.998643</td>\n      <td>222.149096</td>\n      <td>579</td>\n      <td>5.722971</td>\n      <td>85.577820</td>\n    </tr>\n    <tr>\n      <th>...</th>\n      <td>...</td>\n      <td>...</td>\n      <td>...</td>\n      <td>...</td>\n      <td>...</td>\n      <td>...</td>\n      <td>...</td>\n      <td>...</td>\n      <td>...</td>\n      <td>...</td>\n      <td>...</td>\n      <td>...</td>\n      <td>...</td>\n      <td>...</td>\n      <td>...</td>\n      <td>...</td>\n      <td>...</td>\n      <td>...</td>\n      <td>...</td>\n    </tr>\n    <tr>\n      <th>283</th>\n      <td>S009</td>\n      <td>target</td>\n      <td>T8</td>\n      <td>0.219999</td>\n      <td>0.999952</td>\n      <td>120.745614</td>\n      <td>614</td>\n      <td>0.001629</td>\n      <td>4.947448</td>\n      <td>4.545262</td>\n      <td>0.999339</td>\n      <td>120.863372</td>\n      <td>231</td>\n      <td>4.829286</td>\n      <td>0.999387</td>\n      <td>249.589679</td>\n      <td>565</td>\n      <td>5.790640</td>\n      <td>121.701019</td>\n    </tr>\n    <tr>\n      <th>284</th>\n      <td>S009</td>\n      <td>target</td>\n      <td>P3</td>\n      <td>0.219999</td>\n      <td>0.999927</td>\n      <td>66.495974</td>\n      <td>614</td>\n      <td>0.001629</td>\n      <td>4.709035</td>\n      <td>4.545152</td>\n      <td>0.998317</td>\n      <td>78.738389</td>\n      <td>172</td>\n      <td>4.717052</td>\n      <td>0.998390</td>\n      <td>197.729893</td>\n      <td>518</td>\n      <td>5.637738</td>\n      <td>79.606430</td>\n    </tr>\n    <tr>\n      <th>285</th>\n      <td>S009</td>\n      <td>target</td>\n      <td>P4</td>\n      <td>0.219999</td>\n      <td>0.999903</td>\n      <td>97.389151</td>\n      <td>614</td>\n      <td>0.001629</td>\n      <td>4.799371</td>\n      <td>4.545042</td>\n      <td>0.999796</td>\n      <td>96.960373</td>\n      <td>154</td>\n      <td>4.589781</td>\n      <td>0.999893</td>\n      <td>238.299677</td>\n      <td>576</td>\n      <td>5.813041</td>\n      <td>97.960373</td>\n    </tr>\n    <tr>\n      <th>286</th>\n      <td>S009</td>\n      <td>target</td>\n      <td>F3</td>\n      <td>0.219999</td>\n      <td>0.999952</td>\n      <td>86.572327</td>\n      <td>614</td>\n      <td>0.001629</td>\n      <td>4.737748</td>\n      <td>4.545262</td>\n      <td>0.999495</td>\n      <td>94.723235</td>\n      <td>219</td>\n      <td>4.811868</td>\n      <td>0.999544</td>\n      <td>227.810811</td>\n      <td>571</td>\n      <td>5.663977</td>\n      <td>95.625710</td>\n    </tr>\n    <tr>\n      <th>287</th>\n      <td>S009</td>\n      <td>target</td>\n      <td>F4</td>\n      <td>0.219999</td>\n      <td>0.999879</td>\n      <td>77.909434</td>\n      <td>614</td>\n      <td>0.001629</td>\n      <td>4.675537</td>\n      <td>4.544932</td>\n      <td>0.999555</td>\n      <td>89.915676</td>\n      <td>189</td>\n      <td>4.691270</td>\n      <td>0.999676</td>\n      <td>226.586790</td>\n      <td>576</td>\n      <td>5.359849</td>\n      <td>90.828293</td>\n    </tr>\n  </tbody>\n</table>\n<p>288 rows × 19 columns</p>\n</div>"
     },
     "execution_count": 26,
     "metadata": {},
     "output_type": "execute_result"
    },
    {
     "name": "stdout",
     "output_type": "stream",
     "text": [
      "time: 6.82 ms (started: 2022-07-09 19:24:55 +02:00)\n"
     ]
    }
   ],
   "source": [
    "df_stft"
   ],
   "metadata": {
    "collapsed": false,
    "pycharm": {
     "name": "#%%\n"
    }
   }
  }
 ],
 "metadata": {
  "kernelspec": {
   "display_name": "Python 3",
   "language": "python",
   "name": "python3"
  },
  "language_info": {
   "codemirror_mode": {
    "name": "ipython",
    "version": 2
   },
   "file_extension": ".py",
   "mimetype": "text/x-python",
   "name": "python",
   "nbconvert_exporter": "python",
   "pygments_lexer": "ipython2",
   "version": "2.7.6"
  }
 },
 "nbformat": 4,
 "nbformat_minor": 0
}