{
 "cells": [
  {
   "cell_type": "code",
   "execution_count": 49,
   "metadata": {
    "collapsed": true,
    "pycharm": {
     "name": "#%%\n"
    }
   },
   "outputs": [
    {
     "name": "stdout",
     "output_type": "stream",
     "text": [
      "The autotime extension is already loaded. To reload it, use:\n",
      "  %reload_ext autotime\n",
      "time: 2.32 ms (started: 2022-07-18 22:25:06 +02:00)\n"
     ]
    }
   ],
   "source": [
    "import matplotlib.pyplot as plt\n",
    "%matplotlib inline\n",
    "%load_ext autotime\n",
    "import mne\n",
    "import numpy as np\n",
    "import pandas as pd\n",
    "from tqdm import tqdm\n",
    "from numba import njit, jit, float32\n",
    "import matplotlib.pyplot as plt\n",
    "plt.style.use('classic')\n",
    "from BrainPulse import (dataset,\n",
    "                        vector_space,\n",
    "                        distance_matrix,\n",
    "                        recurrence_quantification_analysis,\n",
    "                        features_space,\n",
    "                        plot)\n",
    "\n",
    "def normalize(tSignal):\n",
    "    # copy the data if needed, omit and rename function argument if desired\n",
    "    signal = np.copy(tSignal) # signal is in range [a;b]\n",
    "    signal -= np.min(signal) # signal is in range to [0;b-a]\n",
    "    signal /= np.max(signal) # signal is normalized to [0;1]\n",
    "    signal -= 0.5 # signal is in range [-0.5;0.5]\n",
    "    signal *=2 # signal is in range [-1;1]\n",
    "    return signal"
   ]
  },
  {
   "cell_type": "code",
   "execution_count": 38,
   "outputs": [
    {
     "name": "stdout",
     "output_type": "stream",
     "text": [
      "time: 450 µs (started: 2022-07-18 14:17:02 +02:00)\n"
     ]
    }
   ],
   "source": [
    "cut_freq = 60\n",
    "win_len = 240\n",
    "n_fft = 512\n",
    "percentile = 35\n",
    "s_rate = 512"
   ],
   "metadata": {
    "collapsed": false,
    "pycharm": {
     "name": "#%%\n"
    }
   }
  },
  {
   "cell_type": "code",
   "execution_count": 3,
   "outputs": [
    {
     "name": "stdout",
     "output_type": "stream",
     "text": [
      "Not setting metadata\n",
      "50 matching events found\n",
      "No baseline correction applied\n",
      "0 projection items activated\n",
      "0 bad epochs dropped\n",
      "Not setting metadata\n",
      "50 matching events found\n",
      "No baseline correction applied\n",
      "0 projection items activated\n",
      "0 bad epochs dropped\n",
      "['Cz', 'CPz', 'POz', 'Pz', 'P1', 'P2', 'C3', 'C4', 'O1', 'O2', 'T7', 'T8', 'P3', 'P4', 'F3', 'F4']\n",
      "Not setting metadata\n",
      "2 matching events found\n",
      "No baseline correction applied\n",
      "0 projection items activated\n",
      "0 bad epochs dropped\n",
      "time: 116 ms (started: 2022-07-18 13:53:04 +02:00)\n"
     ]
    }
   ],
   "source": [
    "evoked, epochs = dataset.eegMCI_data_epochs(stim_type1='AV',stim_type2='A', subject=2, run_type='test.dat_2', path_to_data_folder='auditory_visual_audiovisual')"
   ],
   "metadata": {
    "collapsed": false,
    "pycharm": {
     "name": "#%%\n"
    }
   }
  },
  {
   "cell_type": "code",
   "execution_count": 5,
   "outputs": [
    {
     "data": {
      "text/plain": "[<EpochsArray |  50 events (all good), -0.199219 - 0.998047 sec, baseline off, ~3.8 MB, data loaded,\n  '1': 50>,\n <EpochsArray |  50 events (all good), -0.199219 - 0.998047 sec, baseline off, ~3.8 MB, data loaded,\n  '1': 50>]"
     },
     "execution_count": 5,
     "metadata": {},
     "output_type": "execute_result"
    },
    {
     "name": "stdout",
     "output_type": "stream",
     "text": [
      "time: 2.1 ms (started: 2022-07-18 13:53:25 +02:00)\n"
     ]
    }
   ],
   "source": [
    "epochs"
   ],
   "metadata": {
    "collapsed": false,
    "pycharm": {
     "name": "#%%\n"
    }
   }
  },
  {
   "cell_type": "code",
   "execution_count": null,
   "outputs": [],
   "source": [
    "evoked"
   ],
   "metadata": {
    "collapsed": false,
    "pycharm": {
     "name": "#%%\n",
     "is_executing": true
    }
   }
  },
  {
   "cell_type": "markdown",
   "source": [
    "# compute epochs raw"
   ],
   "metadata": {
    "collapsed": false,
    "pycharm": {
     "name": "#%% md\n"
    }
   }
  },
  {
   "cell_type": "code",
   "execution_count": 6,
   "outputs": [
    {
     "data": {
      "text/plain": "(16, 614)"
     },
     "execution_count": 6,
     "metadata": {},
     "output_type": "execute_result"
    },
    {
     "name": "stdout",
     "output_type": "stream",
     "text": [
      "time: 1.15 ms (started: 2022-07-18 13:54:29 +02:00)\n"
     ]
    }
   ],
   "source": [
    "epochs[0].get_data()[0].shape"
   ],
   "metadata": {
    "collapsed": false,
    "pycharm": {
     "name": "#%%\n"
    }
   }
  },
  {
   "cell_type": "code",
   "execution_count": 39,
   "outputs": [
    {
     "name": "stdout",
     "output_type": "stream",
     "text": [
      "time: 1.14 ms (started: 2022-07-18 14:17:09 +02:00)\n"
     ]
    }
   ],
   "source": [
    "matrix_list_tdemb_epoch = []\n",
    "matrix_list_stft_epoch = []\n",
    "\n",
    "def compute_epoch_rqa(epochs):\n",
    "\n",
    "    for electrode_index in range(16):\n",
    "\n",
    "        electrode_signal = epochs.get_data()[0][electrode_index]* 1e6\n",
    "        stft_close = vector_space.compute_stft((electrode_signal),\n",
    "                                               n_fft=n_fft, win_len=win_len,\n",
    "                                               s_rate=s_rate,\n",
    "                                               cut_freq=cut_freq)\n",
    "\n",
    "        matrix_stft = distance_matrix.EuclideanPyRQA_RP_stft(stft_close)\n",
    "        nbr_stft=np.percentile(matrix_stft, percentile)\n",
    "        matrix_binary_stft = distance_matrix.set_epsilon(matrix_stft,nbr_stft)\n",
    "\n",
    "        matrix_tdemb = distance_matrix.EuclideanPyRQA_RP(electrode_signal, embedding=5, timedelay=9)\n",
    "        nbr_tdemb = np.percentile(matrix_tdemb, percentile)\n",
    "        matrix_binary_tdemb = distance_matrix.set_epsilon(matrix_tdemb, nbr_tdemb)\n",
    "\n",
    "        matrix_list_tdemb_epoch.append(matrix_binary_tdemb)\n",
    "        matrix_list_stft_epoch.append(matrix_binary_stft)"
   ],
   "metadata": {
    "collapsed": false,
    "pycharm": {
     "name": "#%%\n"
    }
   }
  },
  {
   "cell_type": "code",
   "execution_count": 40,
   "outputs": [
    {
     "name": "stdout",
     "output_type": "stream",
     "text": [
      "time: 440 ms (started: 2022-07-18 14:17:13 +02:00)\n"
     ]
    }
   ],
   "source": [
    "compute_epoch_rqa(epochs[0])"
   ],
   "metadata": {
    "collapsed": false,
    "pycharm": {
     "name": "#%%\n"
    }
   }
  },
  {
   "cell_type": "code",
   "execution_count": null,
   "outputs": [],
   "source": [
    "fig, axs = plt.subplots(nrows=4, ncols=4,figsize=(8,8),dpi=200)\n",
    "ax_ravel = axs.ravel()\n",
    "\n",
    "for i,ax in enumerate(ax_ravel):\n",
    "    # matrix_to_plot = matrix_list_stft_epoch[i]\n",
    "    matrix_to_plot = matrix_list_tdemb_epoch[i]\n",
    "\n",
    "    ax.imshow(matrix_to_plot, cmap='Greys', origin='lower')\n",
    "    ax.set_xticks(np.linspace(0, matrix_to_plot.shape[0] , ax.get_xticks().shape[0]))\n",
    "    ax.set_yticks(np.linspace(0, matrix_to_plot.shape[0] , ax.get_xticks().shape[0]))\n",
    "    ax.set_xticklabels([str(np.around(x,decimals=1)) for x in np.linspace(-0.2, (matrix_to_plot.shape[0] / s_rate)-0.2, ax.get_xticks().shape[0])])\n",
    "    ax.set_yticklabels([str(np.around(x, decimals=1)) for x in np.linspace(-0.2, (matrix_to_plot.shape[0] / s_rate)-0.2, ax.get_yticks().shape[0])])\n",
    "\n",
    "\n",
    "    ax.set_title(str(epochs[0].ch_names[i]))\n",
    "    ax.set_xlabel('time (s)')\n",
    "    ax.set_ylabel('time (s)')\n",
    "    ax.xaxis.grid()\n",
    "    ax.yaxis.grid()\n",
    "plt.suptitle('TDEMB epoch td = 9, emb = 5')\n",
    "fig.tight_layout()\n"
   ],
   "metadata": {
    "collapsed": false,
    "pycharm": {
     "name": "#%%\n",
     "is_executing": true
    }
   }
  },
  {
   "cell_type": "code",
   "execution_count": null,
   "outputs": [],
   "source": [
    "fig, axs = plt.subplots(nrows=4, ncols=4,figsize=(8,8),dpi=200)\n",
    "ax_ravel = axs.ravel()\n",
    "\n",
    "for i,ax in enumerate(ax_ravel):\n",
    "    matrix_to_plot = matrix_list_stft_epoch[i]\n",
    "    # matrix_to_plot = matrix_list_tdemb_epoch[i]\n",
    "\n",
    "    ax.imshow(matrix_to_plot, cmap='Greys', origin='lower')\n",
    "    ax.set_xticks(np.linspace(0, matrix_to_plot.shape[0] , ax.get_xticks().shape[0]))\n",
    "    ax.set_yticks(np.linspace(0, matrix_to_plot.shape[0] , ax.get_xticks().shape[0]))\n",
    "    ax.set_xticklabels([str(np.around(x,decimals=1)) for x in np.linspace(-0.2, (matrix_to_plot.shape[0] / s_rate)-0.2, ax.get_xticks().shape[0])])\n",
    "    ax.set_yticklabels([str(np.around(x, decimals=1)) for x in np.linspace(-0.2, (matrix_to_plot.shape[0] / s_rate)-0.2, ax.get_yticks().shape[0])])\n",
    "\n",
    "\n",
    "    ax.set_title(str(epochs[0].ch_names[i]))\n",
    "    ax.set_xlabel('time (s)')\n",
    "    ax.set_ylabel('time (s)')\n",
    "    ax.xaxis.grid()\n",
    "    ax.yaxis.grid()\n",
    "plt.suptitle('STFT epoch nfft = 512, win len ='+str(win_len))\n",
    "fig.tight_layout()"
   ],
   "metadata": {
    "collapsed": false,
    "pycharm": {
     "name": "#%%\n",
     "is_executing": true
    }
   }
  },
  {
   "cell_type": "markdown",
   "source": [
    "## compute for ERP\n"
   ],
   "metadata": {
    "collapsed": false,
    "pycharm": {
     "name": "#%% md\n"
    }
   }
  },
  {
   "cell_type": "code",
   "execution_count": 16,
   "outputs": [
    {
     "name": "stdout",
     "output_type": "stream",
     "text": [
      "time: 676 µs (started: 2022-07-18 13:59:41 +02:00)\n"
     ]
    }
   ],
   "source": [
    "matrix_list_tdemb_evoked = []\n",
    "matrix_list_stft_evoked = []\n",
    "\n",
    "def compute_evoked_rqa(evoked):\n",
    "\n",
    "    for electrode_index in range(16):\n",
    "\n",
    "        electrode_signal = evoked[electrode_index]* 1e6\n",
    "        stft_close = vector_space.compute_stft((electrode_signal),\n",
    "                                               n_fft=n_fft, win_len=win_len,\n",
    "                                               s_rate=s_rate,\n",
    "                                               cut_freq=cut_freq)\n",
    "\n",
    "        matrix_stft = distance_matrix.EuclideanPyRQA_RP_stft(stft_close)\n",
    "        nbr_stft=np.percentile(matrix_stft, percentile)\n",
    "        matrix_binary_stft = distance_matrix.set_epsilon(matrix_stft,nbr_stft)\n",
    "\n",
    "        matrix_tdemb = distance_matrix.EuclideanPyRQA_RP(electrode_signal, embedding=3, timedelay=9)\n",
    "        nbr_tdemb = np.percentile(matrix_tdemb, percentile)\n",
    "        matrix_binary_tdemb = distance_matrix.set_epsilon(matrix_tdemb, nbr_tdemb)\n",
    "\n",
    "        matrix_list_tdemb_evoked.append(matrix_binary_tdemb)\n",
    "        matrix_list_stft_evoked.append(matrix_binary_stft)"
   ],
   "metadata": {
    "collapsed": false,
    "pycharm": {
     "name": "#%%\n"
    }
   }
  },
  {
   "cell_type": "code",
   "execution_count": 17,
   "outputs": [
    {
     "name": "stdout",
     "output_type": "stream",
     "text": [
      "time: 429 ms (started: 2022-07-18 13:59:47 +02:00)\n"
     ]
    }
   ],
   "source": [
    "compute_evoked_rqa(evoked.get_data()[0])"
   ],
   "metadata": {
    "collapsed": false,
    "pycharm": {
     "name": "#%%\n"
    }
   }
  },
  {
   "cell_type": "code",
   "execution_count": null,
   "outputs": [],
   "source": [
    "fig, axs = plt.subplots(nrows=4, ncols=4,figsize=(8,8),dpi=200)\n",
    "ax_ravel = axs.ravel()\n",
    "\n",
    "for i,ax in enumerate(ax_ravel):\n",
    "    # matrix_to_plot = matrix_list_stft_evoked[i]\n",
    "    matrix_to_plot = matrix_list_tdemb_evoked[i]\n",
    "\n",
    "    ax.imshow(matrix_to_plot, cmap='Greys', origin='lower')\n",
    "    ax.set_xticks(np.linspace(0, matrix_to_plot.shape[0] , ax.get_xticks().shape[0]))\n",
    "    ax.set_yticks(np.linspace(0, matrix_to_plot.shape[0] , ax.get_xticks().shape[0]))\n",
    "    ax.set_xticklabels([str(np.around(x,decimals=1)) for x in np.linspace(-0.2, (matrix_to_plot.shape[0] / s_rate)-0.2, ax.get_xticks().shape[0])])\n",
    "    ax.set_yticklabels([str(np.around(x, decimals=1)) for x in np.linspace(-0.2, (matrix_to_plot.shape[0] / s_rate)-0.2, ax.get_yticks().shape[0])])\n",
    "\n",
    "\n",
    "    ax.set_title(str(epochs[0].ch_names[i]))\n",
    "    ax.set_xlabel('time (s)')\n",
    "    ax.set_ylabel('time (s)')\n",
    "    ax.xaxis.grid()\n",
    "    ax.yaxis.grid()\n",
    "    # ax.xaxis.grid(True, which='minor')\n",
    "plt.suptitle('TDEMB evoked td = 9, emb = 5')\n",
    "fig.tight_layout()\n"
   ],
   "metadata": {
    "collapsed": false,
    "pycharm": {
     "name": "#%%\n",
     "is_executing": true
    }
   }
  },
  {
   "cell_type": "code",
   "execution_count": null,
   "outputs": [],
   "source": [
    "fig, axs = plt.subplots(nrows=4, ncols=4,figsize=(8,8),dpi=200)\n",
    "ax_ravel = axs.ravel()\n",
    "\n",
    "for i,ax in enumerate(ax_ravel):\n",
    "    matrix_to_plot = matrix_list_stft_evoked[i]\n",
    "    # matrix_to_plot = matrix_list_tdemb_evoked[i]\n",
    "\n",
    "    ax.imshow(matrix_to_plot, cmap='Greys', origin='lower')\n",
    "    ax.set_xticks(np.linspace(0, matrix_to_plot.shape[0] , ax.get_xticks().shape[0]))\n",
    "    ax.set_yticks(np.linspace(0, matrix_to_plot.shape[0] , ax.get_xticks().shape[0]))\n",
    "    ax.set_xticklabels([str(np.around(x,decimals=1)) for x in np.linspace(-0.2, (matrix_to_plot.shape[0] / s_rate)-0.2, ax.get_xticks().shape[0])])\n",
    "    ax.set_yticklabels([str(np.around(x, decimals=1)) for x in np.linspace(-0.2, (matrix_to_plot.shape[0] / s_rate)-0.2, ax.get_yticks().shape[0])])\n",
    "\n",
    "\n",
    "    ax.set_title(str(epochs[0].ch_names[i]))\n",
    "    ax.set_xlabel('time (s)')\n",
    "    ax.set_ylabel('time (s)')\n",
    "    ax.xaxis.grid()\n",
    "    ax.yaxis.grid()\n",
    "plt.suptitle('STFT evoked nfft = 512, win len ='+str(win_len))\n",
    "fig.tight_layout()"
   ],
   "metadata": {
    "collapsed": false,
    "pycharm": {
     "name": "#%%\n",
     "is_executing": true
    }
   }
  }
 ],
 "metadata": {
  "kernelspec": {
   "display_name": "Python 3",
   "language": "python",
   "name": "python3"
  },
  "language_info": {
   "codemirror_mode": {
    "name": "ipython",
    "version": 2
   },
   "file_extension": ".py",
   "mimetype": "text/x-python",
   "name": "python",
   "nbconvert_exporter": "python",
   "pygments_lexer": "ipython2",
   "version": "2.7.6"
  }
 },
 "nbformat": 4,
 "nbformat_minor": 0
}