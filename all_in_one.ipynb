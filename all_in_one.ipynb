{
 "cells": [
  {
   "cell_type": "code",
   "execution_count": 10,
   "metadata": {
    "collapsed": true,
    "pycharm": {
     "name": "#%%\n"
    }
   },
   "outputs": [
    {
     "name": "stdout",
     "output_type": "stream",
     "text": [
      "The autotime extension is already loaded. To reload it, use:\n",
      "  %reload_ext autotime\n",
      "time: 2.39 ms (started: 2022-07-07 11:05:16 +02:00)\n"
     ]
    }
   ],
   "source": [
    "import matplotlib.pyplot as plt\n",
    "%matplotlib inline\n",
    "%load_ext autotime\n",
    "import mne\n",
    "import numpy as np\n",
    "from BrainPulse import (dataset,\n",
    "                        vector_space,\n",
    "                        distance_matrix,\n",
    "                        recurrence_quantification_analysis,\n",
    "                        features_space,\n",
    "                        plot)\n",
    "import pandas as pd\n",
    "from tqdm import tqdm"
   ]
  },
  {
   "cell_type": "code",
   "execution_count": 11,
   "outputs": [
    {
     "name": "stdout",
     "output_type": "stream",
     "text": [
      "time: 292 µs (started: 2022-07-07 11:05:16 +02:00)\n"
     ]
    }
   ],
   "source": [
    "def normalize(tSignal):\n",
    "    # copy the data if needed, omit and rename function argument if desired\n",
    "    signal = np.copy(tSignal) # signal is in range [a;b]\n",
    "    signal -= np.min(signal) # signal is in range to [0;b-a]\n",
    "    signal /= np.max(signal) # signal is normalized to [0;1]\n",
    "    signal -= 0.5 # signal is in range [-0.5;0.5]\n",
    "    signal *=2 # signal is in range [-1;1]\n",
    "    return signal"
   ],
   "metadata": {
    "collapsed": false,
    "pycharm": {
     "name": "#%%\n"
    }
   }
  },
  {
   "cell_type": "code",
   "execution_count": 12,
   "outputs": [
    {
     "name": "stdout",
     "output_type": "stream",
     "text": [
      "time: 4.34 ms (started: 2022-07-07 11:05:16 +02:00)\n"
     ]
    }
   ],
   "source": [
    "number_of_subjects = [0,50]\n",
    "t_start = 0\n",
    "t_end = 30\n",
    "fir_filter = [2.0, 50.0]\n",
    "\n",
    "min_vert_line_len_ = 2\n",
    "win_len = 240\n",
    "n_fft = 512\n",
    "\n",
    "percentile_var = 4\n",
    "\n",
    "results_parameters_tdemb = []\n",
    "results_parameters_stft = []"
   ],
   "metadata": {
    "collapsed": false,
    "pycharm": {
     "name": "#%%\n"
    }
   }
  },
  {
   "cell_type": "code",
   "execution_count": null,
   "outputs": [],
   "source": [
    "\n",
    "for n in tqdm(range(number_of_subjects[0]+1,number_of_subjects[1])):\n",
    "    print(n)\n",
    "    Subject_id = 'S'+ str(f'{n:03}')\n",
    "    run, raw = dataset.eegbci_data(tmin=t_start, tmax=t_end, subject=n, filter_range=fir_filter)\n",
    "\n",
    "    for task, task_io in zip(run, ['open_eyes','closed_eyes']):\n",
    "        for eid in tqdm(range(64)):\n",
    "        # for eid, electrode in enumerate(task):\n",
    "        #     signal = electrode * 1e6\n",
    "            signal = task[eid] * 1e6\n",
    "\n",
    "            norm_signal = normalize(signal)\n",
    "\n",
    "            matrix_tdemb = distance_matrix.EuclideanPyRQA_RP(norm_signal, embedding=5, timedelay=9)\n",
    "            nbr_tdemb = np.percentile(matrix_tdemb, percentile_var)\n",
    "            matrix_binary_tdemb = distance_matrix.set_epsilon(matrix_tdemb, nbr_tdemb)\n",
    "\n",
    "            result_rqa_tdemb = recurrence_quantification_analysis.get_results(matrix_binary_tdemb,2,min_vert_line_len_,2)\n",
    "            results_parameters_tdemb.append([Subject_id, task_io, run.ch_names[eid]] + result_rqa_tdemb)\n",
    "            # plt.imshow(matrix_binary_tdemb, cmap='cividis', origin='lower')\n",
    "\n",
    "            cut_freq = 60\n",
    "            stft = vector_space.compute_stft(norm_signal,\n",
    "                                             n_fft=n_fft, win_len=win_len,\n",
    "                                             s_rate=run.info['sfreq'],\n",
    "                                             cut_freq=cut_freq)\n",
    "\n",
    "            matrix_stft = distance_matrix.EuclideanPyRQA_RP_stft(stft)\n",
    "            nbr_stft = np.percentile(matrix_stft, percentile_var)\n",
    "            matrix_binary_stft = distance_matrix.set_epsilon(matrix_stft, nbr_stft)\n",
    "\n",
    "            result_rqa_stft = recurrence_quantification_analysis.get_results(matrix_binary_stft,2,min_vert_line_len_,2)\n",
    "            results_parameters_stft.append([Subject_id, task_io, run.ch_names[eid]] + result_rqa_stft)\n"
   ],
   "metadata": {
    "collapsed": false,
    "pycharm": {
     "name": "#%%\n",
     "is_executing": true
    }
   }
  },
  {
   "cell_type": "code",
   "execution_count": 14,
   "outputs": [
    {
     "name": "stdout",
     "output_type": "stream",
     "text": [
      "time: 16.2 ms (started: 2022-07-07 13:00:34 +02:00)\n"
     ]
    }
   ],
   "source": [
    "df_tdemb = pd.DataFrame(results_parameters_tdemb,\n",
    "                        columns=['Subject', 'Task', 'Electrode',\n",
    "                                 'RR', 'DET', 'L', 'Lmax', 'DIV',\n",
    "                                 'Lentr', 'DET_RR', 'LAM', 'V',\n",
    "                                 'Vmax', 'Ventr', 'LAM_DET', 'W',\n",
    "                                 'Wmax', 'Wentr', 'TT'])"
   ],
   "metadata": {
    "collapsed": false,
    "pycharm": {
     "name": "#%%\n"
    }
   }
  },
  {
   "cell_type": "code",
   "execution_count": 15,
   "outputs": [
    {
     "name": "stdout",
     "output_type": "stream",
     "text": [
      "time: 16.6 ms (started: 2022-07-07 13:00:34 +02:00)\n"
     ]
    }
   ],
   "source": [
    "df_stft = pd.DataFrame(results_parameters_stft,\n",
    "                       columns=['Subject', 'Task', 'Electrode',\n",
    "                                'RR', 'DET', 'L', 'Lmax', 'DIV',\n",
    "                                'Lentr', 'DET_RR', 'LAM', 'V',\n",
    "                                'Vmax', 'Ventr', 'LAM_DET', 'W',\n",
    "                                'Wmax', 'Wentr', 'TT'])"
   ],
   "metadata": {
    "collapsed": false,
    "pycharm": {
     "name": "#%%\n"
    }
   }
  },
  {
   "cell_type": "code",
   "execution_count": 16,
   "outputs": [
    {
     "name": "stdout",
     "output_type": "stream",
     "text": [
      "time: 65.8 ms (started: 2022-07-07 13:00:34 +02:00)\n"
     ]
    }
   ],
   "source": [
    "df_tdemb.to_csv('df_tdemb_4th_'+str(number_of_subjects[1])+'.csv')"
   ],
   "metadata": {
    "collapsed": false,
    "pycharm": {
     "name": "#%%\n"
    }
   }
  },
  {
   "cell_type": "code",
   "execution_count": 17,
   "outputs": [
    {
     "name": "stdout",
     "output_type": "stream",
     "text": [
      "time: 70.1 ms (started: 2022-07-07 13:00:35 +02:00)\n"
     ]
    }
   ],
   "source": [
    "df_stft.to_csv('df_stft_4th_'+str(number_of_subjects[1])+'.csv')"
   ],
   "metadata": {
    "collapsed": false,
    "pycharm": {
     "name": "#%%\n"
    }
   }
  },
  {
   "cell_type": "code",
   "execution_count": 18,
   "outputs": [
    {
     "data": {
      "text/plain": "  Subject       Task Electrode    RR       DET          L  Lmax       DIV  \\\n0    S001  open_eyes       FC5  0.04  0.999961  56.770697  4801  0.000208   \n1    S001  open_eyes       FC3  0.04  0.999937  53.869657  4801  0.000208   \n2    S001  open_eyes       FC1  0.04  0.999956  56.021859  4801  0.000208   \n3    S001  open_eyes       FCz  0.04  0.999937  52.597340  4801  0.000208   \n4    S001  open_eyes       FC2  0.04  0.999946  62.834954  4801  0.000208   \n\n      Lentr     DET_RR       LAM          V  Vmax     Ventr   LAM_DET  \\\n0  4.403802  24.999078  0.999984  65.853991   361  5.063298  1.000023   \n1  4.322867  24.998424  0.999984  61.753682   242  4.975233  1.000047   \n2  4.357343  24.998914  0.999984  64.536314   248  5.024931  1.000027   \n3  4.278699  24.998424  0.999985  62.359137   258  4.971709  1.000048   \n4  4.424272  24.998642  0.999986  70.787030   294  5.086988  1.000040   \n\n             W  Wmax     Wentr         TT  \n0  1181.702450  4766  7.712069  66.784607  \n1  1125.868833  4761  7.700242  62.692730  \n2  1163.871399  4763  7.746830  65.469704  \n3  1134.465895  4761  7.700304  63.301113  \n4  1247.215843  4758  7.768188  71.717476  ",
      "text/html": "<div>\n<style scoped>\n    .dataframe tbody tr th:only-of-type {\n        vertical-align: middle;\n    }\n\n    .dataframe tbody tr th {\n        vertical-align: top;\n    }\n\n    .dataframe thead th {\n        text-align: right;\n    }\n</style>\n<table border=\"1\" class=\"dataframe\">\n  <thead>\n    <tr style=\"text-align: right;\">\n      <th></th>\n      <th>Subject</th>\n      <th>Task</th>\n      <th>Electrode</th>\n      <th>RR</th>\n      <th>DET</th>\n      <th>L</th>\n      <th>Lmax</th>\n      <th>DIV</th>\n      <th>Lentr</th>\n      <th>DET_RR</th>\n      <th>LAM</th>\n      <th>V</th>\n      <th>Vmax</th>\n      <th>Ventr</th>\n      <th>LAM_DET</th>\n      <th>W</th>\n      <th>Wmax</th>\n      <th>Wentr</th>\n      <th>TT</th>\n    </tr>\n  </thead>\n  <tbody>\n    <tr>\n      <th>0</th>\n      <td>S001</td>\n      <td>open_eyes</td>\n      <td>FC5</td>\n      <td>0.04</td>\n      <td>0.999961</td>\n      <td>56.770697</td>\n      <td>4801</td>\n      <td>0.000208</td>\n      <td>4.403802</td>\n      <td>24.999078</td>\n      <td>0.999984</td>\n      <td>65.853991</td>\n      <td>361</td>\n      <td>5.063298</td>\n      <td>1.000023</td>\n      <td>1181.702450</td>\n      <td>4766</td>\n      <td>7.712069</td>\n      <td>66.784607</td>\n    </tr>\n    <tr>\n      <th>1</th>\n      <td>S001</td>\n      <td>open_eyes</td>\n      <td>FC3</td>\n      <td>0.04</td>\n      <td>0.999937</td>\n      <td>53.869657</td>\n      <td>4801</td>\n      <td>0.000208</td>\n      <td>4.322867</td>\n      <td>24.998424</td>\n      <td>0.999984</td>\n      <td>61.753682</td>\n      <td>242</td>\n      <td>4.975233</td>\n      <td>1.000047</td>\n      <td>1125.868833</td>\n      <td>4761</td>\n      <td>7.700242</td>\n      <td>62.692730</td>\n    </tr>\n    <tr>\n      <th>2</th>\n      <td>S001</td>\n      <td>open_eyes</td>\n      <td>FC1</td>\n      <td>0.04</td>\n      <td>0.999956</td>\n      <td>56.021859</td>\n      <td>4801</td>\n      <td>0.000208</td>\n      <td>4.357343</td>\n      <td>24.998914</td>\n      <td>0.999984</td>\n      <td>64.536314</td>\n      <td>248</td>\n      <td>5.024931</td>\n      <td>1.000027</td>\n      <td>1163.871399</td>\n      <td>4763</td>\n      <td>7.746830</td>\n      <td>65.469704</td>\n    </tr>\n    <tr>\n      <th>3</th>\n      <td>S001</td>\n      <td>open_eyes</td>\n      <td>FCz</td>\n      <td>0.04</td>\n      <td>0.999937</td>\n      <td>52.597340</td>\n      <td>4801</td>\n      <td>0.000208</td>\n      <td>4.278699</td>\n      <td>24.998424</td>\n      <td>0.999985</td>\n      <td>62.359137</td>\n      <td>258</td>\n      <td>4.971709</td>\n      <td>1.000048</td>\n      <td>1134.465895</td>\n      <td>4761</td>\n      <td>7.700304</td>\n      <td>63.301113</td>\n    </tr>\n    <tr>\n      <th>4</th>\n      <td>S001</td>\n      <td>open_eyes</td>\n      <td>FC2</td>\n      <td>0.04</td>\n      <td>0.999946</td>\n      <td>62.834954</td>\n      <td>4801</td>\n      <td>0.000208</td>\n      <td>4.424272</td>\n      <td>24.998642</td>\n      <td>0.999986</td>\n      <td>70.787030</td>\n      <td>294</td>\n      <td>5.086988</td>\n      <td>1.000040</td>\n      <td>1247.215843</td>\n      <td>4758</td>\n      <td>7.768188</td>\n      <td>71.717476</td>\n    </tr>\n  </tbody>\n</table>\n</div>"
     },
     "execution_count": 18,
     "metadata": {},
     "output_type": "execute_result"
    },
    {
     "name": "stdout",
     "output_type": "stream",
     "text": [
      "time: 5.89 ms (started: 2022-07-07 13:00:35 +02:00)\n"
     ]
    }
   ],
   "source": [
    "df_stft.head()"
   ],
   "metadata": {
    "collapsed": false,
    "pycharm": {
     "name": "#%%\n"
    }
   }
  }
 ],
 "metadata": {
  "kernelspec": {
   "display_name": "Python 3",
   "language": "python",
   "name": "python3"
  },
  "language_info": {
   "codemirror_mode": {
    "name": "ipython",
    "version": 2
   },
   "file_extension": ".py",
   "mimetype": "text/x-python",
   "name": "python",
   "nbconvert_exporter": "python",
   "pygments_lexer": "ipython2",
   "version": "2.7.6"
  }
 },
 "nbformat": 4,
 "nbformat_minor": 0
}