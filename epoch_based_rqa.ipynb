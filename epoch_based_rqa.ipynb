{
 "cells": [
  {
   "cell_type": "code",
   "execution_count": 1,
   "metadata": {
    "collapsed": true,
    "pycharm": {
     "name": "#%%\n"
    }
   },
   "outputs": [
    {
     "name": "stdout",
     "output_type": "stream",
     "text": [
      "time: 4.73 s (started: 2022-07-18 22:50:49 +02:00)\n"
     ]
    }
   ],
   "source": [
    "import matplotlib.pyplot as plt\n",
    "%matplotlib inline\n",
    "%load_ext autotime\n",
    "import mne\n",
    "import numpy as np\n",
    "plt.style.use('classic')\n",
    "from BrainPulse import (dataset,\n",
    "                        vector_space,\n",
    "                        distance_matrix,\n",
    "                        recurrence_quantification_analysis,\n",
    "                        features_space,\n",
    "                        plot)\n",
    "import pandas as pd\n",
    "from tqdm import tqdm"
   ]
  },
  {
   "cell_type": "code",
   "execution_count": 2,
   "outputs": [
    {
     "name": "stdout",
     "output_type": "stream",
     "text": [
      "time: 301 µs (started: 2022-07-18 22:50:58 +02:00)\n"
     ]
    }
   ],
   "source": [
    "def normalize(tSignal):\n",
    "    # copy the data if needed, omit and rename function argument if desired\n",
    "    signal = np.copy(tSignal) # signal is in range [a;b]\n",
    "    signal -= np.min(signal) # signal is in range to [0;b-a]\n",
    "    signal /= np.max(signal) # signal is normalized to [0;1]\n",
    "    signal -= 0.5 # signal is in range [-0.5;0.5]\n",
    "    signal *=2 # signal is in range [-1;1]\n",
    "    return signal"
   ],
   "metadata": {
    "collapsed": false,
    "pycharm": {
     "name": "#%%\n"
    }
   }
  },
  {
   "cell_type": "code",
   "execution_count": 41,
   "outputs": [
    {
     "name": "stdout",
     "output_type": "stream",
     "text": [
      "time: 14.6 ms (started: 2022-07-19 00:13:04 +02:00)\n"
     ]
    }
   ],
   "source": [
    "number_of_subjects = [0,17]\n",
    "\n",
    "win_len = 240\n",
    "n_fft = 512\n",
    "s_rate = 512\n",
    "cut_freq = 60\n",
    "\n",
    "percentile_var = 35\n",
    "\n",
    "results_parameters_tdemb = []\n",
    "results_parameters_stft = []"
   ],
   "metadata": {
    "collapsed": false,
    "pycharm": {
     "name": "#%%\n"
    }
   }
  },
  {
   "cell_type": "code",
   "execution_count": null,
   "outputs": [],
   "source": [
    "tmp_std = []\n",
    "\n",
    "for n in tqdm(range(number_of_subjects[0]+1,number_of_subjects[1])):\n",
    "    print(n)\n",
    "    Subject_id = 'S'+ str(f'{n:03}')\n",
    "    # run, raw = dataset.eegbci_data(tmin=t_start, tmax=t_end, subject=n, filter_range=fir_filter)\n",
    "    evoked, epochs = dataset.eegMCI_data_epochs(stim_type1='AV',stim_type2='A', subject=n, run_type='test.dat_1', path_to_data_folder='auditory_visual_audiovisual')\n",
    "\n",
    "    for epoch, task_io in zip(epochs, ['AV','A']):\n",
    "        e_list = epoch.ch_names\n",
    "\n",
    "        for epoch_id, trail in enumerate(epoch):\n",
    "            for electrode_id, electrode in enumerate(trail):\n",
    "                x = np.std(electrode)\n",
    "                # if x <=25:\n",
    "                tmp_std.append(x)\n",
    "                    # print(electrode.shape, task_io, epoch_id, e_list[electrode_id])\n",
    "\n",
    "                    # stft = vector_space.compute_stft(electrode,\n",
    "                    #                                  n_fft=n_fft, win_len=win_len,\n",
    "                    #                                  s_rate=512,\n",
    "                    #                                  cut_freq=cut_freq)\n",
    "                    #\n",
    "                    # matrix_stft = distance_matrix.EuclideanPyRQA_RP_stft(stft)\n",
    "                    # nbr_stft = np.percentile(matrix_stft, percentile_var)\n",
    "                    # matrix_binary_stft = distance_matrix.set_epsilon(matrix_stft, nbr_stft)\n",
    "                    #\n",
    "                    # result_rqa_stft = recurrence_quantification_analysis.get_results(matrix_binary_stft,2,2,2)\n",
    "                    # results_parameters_stft.append([Subject_id, task_io, epoch_id,e_list[electrode_id]] + result_rqa_stft)\n",
    "\n"
   ],
   "metadata": {
    "collapsed": false,
    "pycharm": {
     "name": "#%%\n",
     "is_executing": true
    }
   }
  },
  {
   "cell_type": "code",
   "execution_count": 43,
   "outputs": [
    {
     "name": "stdout",
     "output_type": "stream",
     "text": [
      "142.4151843728371 -29.500706797664606\n",
      "time: 494 µs (started: 2022-07-19 00:20:11 +02:00)\n"
     ]
    }
   ],
   "source": [
    "print(np.max(electrode),np.min(electrode))"
   ],
   "metadata": {
    "collapsed": false,
    "pycharm": {
     "name": "#%%\n"
    }
   }
  },
  {
   "cell_type": "code",
   "execution_count": null,
   "outputs": [],
   "source": [
    "plt.figure(figsize=(12,10),dpi=200)\n",
    "plt.plot(tmp_std)\n",
    "# plt.xlim([0,900])"
   ],
   "metadata": {
    "collapsed": false,
    "pycharm": {
     "name": "#%%\n",
     "is_executing": true
    }
   }
  },
  {
   "cell_type": "code",
   "execution_count": 45,
   "outputs": [
    {
     "name": "stdout",
     "output_type": "stream",
     "text": [
      "time: 1.37 ms (started: 2022-07-19 00:20:11 +02:00)\n"
     ]
    }
   ],
   "source": [
    "df_tdemb = pd.DataFrame(results_parameters_tdemb,\n",
    "                        columns=['Subject', 'Task', 'Electrode',\n",
    "                                 'RR', 'DET', 'L', 'Lmax', 'DIV',\n",
    "                                 'Lentr', 'DET_RR', 'LAM', 'V',\n",
    "                                 'Vmax', 'Ventr', 'LAM_DET', 'W',\n",
    "                                 'Wmax', 'Wentr', 'TT'])"
   ],
   "metadata": {
    "collapsed": false,
    "pycharm": {
     "name": "#%%\n"
    }
   }
  },
  {
   "cell_type": "code",
   "execution_count": 46,
   "outputs": [
    {
     "name": "stdout",
     "output_type": "stream",
     "text": [
      "time: 90.4 ms (started: 2022-07-19 00:20:11 +02:00)\n"
     ]
    }
   ],
   "source": [
    "df_stft = pd.DataFrame(results_parameters_stft,\n",
    "                       columns=['Subject', 'Task', 'Epoch_id' ,'Electrode',\n",
    "                                'RR', 'DET', 'L', 'Lmax', 'DIV',\n",
    "                                'Lentr', 'DET_RR', 'LAM', 'V',\n",
    "                                'Vmax', 'Ventr', 'LAM_DET', 'W',\n",
    "                                'Wmax', 'Wentr', 'TT'])"
   ],
   "metadata": {
    "collapsed": false,
    "pycharm": {
     "name": "#%%\n"
    }
   }
  },
  {
   "cell_type": "code",
   "execution_count": 47,
   "outputs": [
    {
     "data": {
      "text/plain": "      Subject Task  Epoch_id Electrode        RR       DET           L  Lmax  \\\n0        S001   AV         0        Cz  0.350001  0.999939   92.137063   614   \n1        S001   AV         0       CPz  0.350001  0.999939   96.453880   614   \n2        S001   AV         0       POz  0.350001  0.999970  173.825858   614   \n3        S001   AV         0        Pz  0.350001  0.999954  162.664198   614   \n4        S001   AV         0        P1  0.350001  0.999970  167.208122   614   \n...       ...  ...       ...       ...       ...       ...         ...   ...   \n24608    S016    A        49        O1  0.350001  0.999954  105.744783   614   \n24609    S016    A        49        O2  0.350001  0.999954  122.679702   614   \n24610    S016    A        49        T7  0.350001  0.999970   85.669701   614   \n24611    S016    A        49        P3  0.350001  0.999939   81.230580   614   \n24612    S016    A        49        P4  0.350001  0.999954   94.517934   614   \n\n            DIV     Lentr    DET_RR       LAM           V  Vmax     Ventr  \\\n0      0.001629  4.986403  2.856964  0.999985  108.683908   272  5.123760   \n1      0.001629  4.723190  2.856964  0.999985  124.531515   304  5.153666   \n2      0.001629  5.401010  2.857051  1.000000  201.797256   291  4.285085   \n3      0.001629  5.516016  2.857007  1.000000  211.468051   288  4.593410   \n4      0.001629  5.518410  2.857051  1.000000  212.486356   280  4.508257   \n...         ...       ...       ...       ...         ...   ...       ...   \n24608  0.001629  4.863453  2.857007  1.000000  144.046790   327  5.028337   \n24609  0.001629  5.193413  2.857007  1.000000  170.371943   292  4.764443   \n24610  0.001629  4.741894  2.857051  1.000000  111.524010   339  5.078804   \n24611  0.001629  4.822760  2.856964  0.999992  115.311847   285  5.142869   \n24612  0.001629  4.958671  2.857007  1.000000  140.679065   267  4.711011   \n\n        LAM_DET           W  Wmax     Wentr          TT  \n0      1.000046  145.297872   548  5.690874  109.507378  \n1      1.000046  164.444147   547  5.713421  125.299530  \n2      1.000030  230.192884   532  5.400278  202.797256  \n3      1.000046  261.260361   511  5.388261  212.468048  \n4      1.000030  273.466073   489  5.504798  213.486359  \n...         ...         ...   ...       ...         ...  \n24608  1.000046  222.484163   399  5.406152  145.046783  \n24609  1.000046  266.933768   390  5.176757  171.371948  \n24610  1.000030  156.788903   537  5.393903  112.524010  \n24611  1.000053  182.512992   423  5.458598  116.212357  \n24612  1.000046  228.481413   419  5.389178  141.679062  \n\n[24613 rows x 20 columns]",
      "text/html": "<div>\n<style scoped>\n    .dataframe tbody tr th:only-of-type {\n        vertical-align: middle;\n    }\n\n    .dataframe tbody tr th {\n        vertical-align: top;\n    }\n\n    .dataframe thead th {\n        text-align: right;\n    }\n</style>\n<table border=\"1\" class=\"dataframe\">\n  <thead>\n    <tr style=\"text-align: right;\">\n      <th></th>\n      <th>Subject</th>\n      <th>Task</th>\n      <th>Epoch_id</th>\n      <th>Electrode</th>\n      <th>RR</th>\n      <th>DET</th>\n      <th>L</th>\n      <th>Lmax</th>\n      <th>DIV</th>\n      <th>Lentr</th>\n      <th>DET_RR</th>\n      <th>LAM</th>\n      <th>V</th>\n      <th>Vmax</th>\n      <th>Ventr</th>\n      <th>LAM_DET</th>\n      <th>W</th>\n      <th>Wmax</th>\n      <th>Wentr</th>\n      <th>TT</th>\n    </tr>\n  </thead>\n  <tbody>\n    <tr>\n      <th>0</th>\n      <td>S001</td>\n      <td>AV</td>\n      <td>0</td>\n      <td>Cz</td>\n      <td>0.350001</td>\n      <td>0.999939</td>\n      <td>92.137063</td>\n      <td>614</td>\n      <td>0.001629</td>\n      <td>4.986403</td>\n      <td>2.856964</td>\n      <td>0.999985</td>\n      <td>108.683908</td>\n      <td>272</td>\n      <td>5.123760</td>\n      <td>1.000046</td>\n      <td>145.297872</td>\n      <td>548</td>\n      <td>5.690874</td>\n      <td>109.507378</td>\n    </tr>\n    <tr>\n      <th>1</th>\n      <td>S001</td>\n      <td>AV</td>\n      <td>0</td>\n      <td>CPz</td>\n      <td>0.350001</td>\n      <td>0.999939</td>\n      <td>96.453880</td>\n      <td>614</td>\n      <td>0.001629</td>\n      <td>4.723190</td>\n      <td>2.856964</td>\n      <td>0.999985</td>\n      <td>124.531515</td>\n      <td>304</td>\n      <td>5.153666</td>\n      <td>1.000046</td>\n      <td>164.444147</td>\n      <td>547</td>\n      <td>5.713421</td>\n      <td>125.299530</td>\n    </tr>\n    <tr>\n      <th>2</th>\n      <td>S001</td>\n      <td>AV</td>\n      <td>0</td>\n      <td>POz</td>\n      <td>0.350001</td>\n      <td>0.999970</td>\n      <td>173.825858</td>\n      <td>614</td>\n      <td>0.001629</td>\n      <td>5.401010</td>\n      <td>2.857051</td>\n      <td>1.000000</td>\n      <td>201.797256</td>\n      <td>291</td>\n      <td>4.285085</td>\n      <td>1.000030</td>\n      <td>230.192884</td>\n      <td>532</td>\n      <td>5.400278</td>\n      <td>202.797256</td>\n    </tr>\n    <tr>\n      <th>3</th>\n      <td>S001</td>\n      <td>AV</td>\n      <td>0</td>\n      <td>Pz</td>\n      <td>0.350001</td>\n      <td>0.999954</td>\n      <td>162.664198</td>\n      <td>614</td>\n      <td>0.001629</td>\n      <td>5.516016</td>\n      <td>2.857007</td>\n      <td>1.000000</td>\n      <td>211.468051</td>\n      <td>288</td>\n      <td>4.593410</td>\n      <td>1.000046</td>\n      <td>261.260361</td>\n      <td>511</td>\n      <td>5.388261</td>\n      <td>212.468048</td>\n    </tr>\n    <tr>\n      <th>4</th>\n      <td>S001</td>\n      <td>AV</td>\n      <td>0</td>\n      <td>P1</td>\n      <td>0.350001</td>\n      <td>0.999970</td>\n      <td>167.208122</td>\n      <td>614</td>\n      <td>0.001629</td>\n      <td>5.518410</td>\n      <td>2.857051</td>\n      <td>1.000000</td>\n      <td>212.486356</td>\n      <td>280</td>\n      <td>4.508257</td>\n      <td>1.000030</td>\n      <td>273.466073</td>\n      <td>489</td>\n      <td>5.504798</td>\n      <td>213.486359</td>\n    </tr>\n    <tr>\n      <th>...</th>\n      <td>...</td>\n      <td>...</td>\n      <td>...</td>\n      <td>...</td>\n      <td>...</td>\n      <td>...</td>\n      <td>...</td>\n      <td>...</td>\n      <td>...</td>\n      <td>...</td>\n      <td>...</td>\n      <td>...</td>\n      <td>...</td>\n      <td>...</td>\n      <td>...</td>\n      <td>...</td>\n      <td>...</td>\n      <td>...</td>\n      <td>...</td>\n      <td>...</td>\n    </tr>\n    <tr>\n      <th>24608</th>\n      <td>S016</td>\n      <td>A</td>\n      <td>49</td>\n      <td>O1</td>\n      <td>0.350001</td>\n      <td>0.999954</td>\n      <td>105.744783</td>\n      <td>614</td>\n      <td>0.001629</td>\n      <td>4.863453</td>\n      <td>2.857007</td>\n      <td>1.000000</td>\n      <td>144.046790</td>\n      <td>327</td>\n      <td>5.028337</td>\n      <td>1.000046</td>\n      <td>222.484163</td>\n      <td>399</td>\n      <td>5.406152</td>\n      <td>145.046783</td>\n    </tr>\n    <tr>\n      <th>24609</th>\n      <td>S016</td>\n      <td>A</td>\n      <td>49</td>\n      <td>O2</td>\n      <td>0.350001</td>\n      <td>0.999954</td>\n      <td>122.679702</td>\n      <td>614</td>\n      <td>0.001629</td>\n      <td>5.193413</td>\n      <td>2.857007</td>\n      <td>1.000000</td>\n      <td>170.371943</td>\n      <td>292</td>\n      <td>4.764443</td>\n      <td>1.000046</td>\n      <td>266.933768</td>\n      <td>390</td>\n      <td>5.176757</td>\n      <td>171.371948</td>\n    </tr>\n    <tr>\n      <th>24610</th>\n      <td>S016</td>\n      <td>A</td>\n      <td>49</td>\n      <td>T7</td>\n      <td>0.350001</td>\n      <td>0.999970</td>\n      <td>85.669701</td>\n      <td>614</td>\n      <td>0.001629</td>\n      <td>4.741894</td>\n      <td>2.857051</td>\n      <td>1.000000</td>\n      <td>111.524010</td>\n      <td>339</td>\n      <td>5.078804</td>\n      <td>1.000030</td>\n      <td>156.788903</td>\n      <td>537</td>\n      <td>5.393903</td>\n      <td>112.524010</td>\n    </tr>\n    <tr>\n      <th>24611</th>\n      <td>S016</td>\n      <td>A</td>\n      <td>49</td>\n      <td>P3</td>\n      <td>0.350001</td>\n      <td>0.999939</td>\n      <td>81.230580</td>\n      <td>614</td>\n      <td>0.001629</td>\n      <td>4.822760</td>\n      <td>2.856964</td>\n      <td>0.999992</td>\n      <td>115.311847</td>\n      <td>285</td>\n      <td>5.142869</td>\n      <td>1.000053</td>\n      <td>182.512992</td>\n      <td>423</td>\n      <td>5.458598</td>\n      <td>116.212357</td>\n    </tr>\n    <tr>\n      <th>24612</th>\n      <td>S016</td>\n      <td>A</td>\n      <td>49</td>\n      <td>P4</td>\n      <td>0.350001</td>\n      <td>0.999954</td>\n      <td>94.517934</td>\n      <td>614</td>\n      <td>0.001629</td>\n      <td>4.958671</td>\n      <td>2.857007</td>\n      <td>1.000000</td>\n      <td>140.679065</td>\n      <td>267</td>\n      <td>4.711011</td>\n      <td>1.000046</td>\n      <td>228.481413</td>\n      <td>419</td>\n      <td>5.389178</td>\n      <td>141.679062</td>\n    </tr>\n  </tbody>\n</table>\n<p>24613 rows × 20 columns</p>\n</div>"
     },
     "execution_count": 47,
     "metadata": {},
     "output_type": "execute_result"
    },
    {
     "name": "stdout",
     "output_type": "stream",
     "text": [
      "time: 11.6 ms (started: 2022-07-19 00:20:11 +02:00)\n"
     ]
    }
   ],
   "source": [
    "df_stft"
   ],
   "metadata": {
    "collapsed": false,
    "pycharm": {
     "name": "#%%\n"
    }
   }
  },
  {
   "cell_type": "code",
   "execution_count": 48,
   "outputs": [
    {
     "name": "stdout",
     "output_type": "stream",
     "text": [
      "time: 3.14 ms (started: 2022-07-19 00:20:11 +02:00)\n"
     ]
    }
   ],
   "source": [
    "df_tdemb.to_csv('Results/erp_tdemb/df_tdemb_epokAiAV_std'+str(percentile_var)+'th_erp'+str(number_of_subjects[1])+'.csv')"
   ],
   "metadata": {
    "collapsed": false,
    "pycharm": {
     "name": "#%%\n"
    }
   }
  },
  {
   "cell_type": "code",
   "execution_count": 49,
   "outputs": [
    {
     "name": "stdout",
     "output_type": "stream",
     "text": [
      "time: 336 ms (started: 2022-07-19 00:20:11 +02:00)\n"
     ]
    }
   ],
   "source": [
    "df_stft.to_csv('Results/erp_stft/df_stft_epokAiAV_std'+str(percentile_var)+'th_erp'+str(number_of_subjects[1])+'.csv')"
   ],
   "metadata": {
    "collapsed": false,
    "pycharm": {
     "name": "#%%\n"
    }
   }
  },
  {
   "cell_type": "code",
   "execution_count": 50,
   "outputs": [
    {
     "data": {
      "text/plain": "      Subject Task  Epoch_id Electrode        RR       DET           L  Lmax  \\\n0        S001   AV         0        Cz  0.350001  0.999939   92.137063   614   \n1        S001   AV         0       CPz  0.350001  0.999939   96.453880   614   \n2        S001   AV         0       POz  0.350001  0.999970  173.825858   614   \n3        S001   AV         0        Pz  0.350001  0.999954  162.664198   614   \n4        S001   AV         0        P1  0.350001  0.999970  167.208122   614   \n...       ...  ...       ...       ...       ...       ...         ...   ...   \n24608    S016    A        49        O1  0.350001  0.999954  105.744783   614   \n24609    S016    A        49        O2  0.350001  0.999954  122.679702   614   \n24610    S016    A        49        T7  0.350001  0.999970   85.669701   614   \n24611    S016    A        49        P3  0.350001  0.999939   81.230580   614   \n24612    S016    A        49        P4  0.350001  0.999954   94.517934   614   \n\n            DIV     Lentr    DET_RR       LAM           V  Vmax     Ventr  \\\n0      0.001629  4.986403  2.856964  0.999985  108.683908   272  5.123760   \n1      0.001629  4.723190  2.856964  0.999985  124.531515   304  5.153666   \n2      0.001629  5.401010  2.857051  1.000000  201.797256   291  4.285085   \n3      0.001629  5.516016  2.857007  1.000000  211.468051   288  4.593410   \n4      0.001629  5.518410  2.857051  1.000000  212.486356   280  4.508257   \n...         ...       ...       ...       ...         ...   ...       ...   \n24608  0.001629  4.863453  2.857007  1.000000  144.046790   327  5.028337   \n24609  0.001629  5.193413  2.857007  1.000000  170.371943   292  4.764443   \n24610  0.001629  4.741894  2.857051  1.000000  111.524010   339  5.078804   \n24611  0.001629  4.822760  2.856964  0.999992  115.311847   285  5.142869   \n24612  0.001629  4.958671  2.857007  1.000000  140.679065   267  4.711011   \n\n        LAM_DET           W  Wmax     Wentr          TT  \n0      1.000046  145.297872   548  5.690874  109.507378  \n1      1.000046  164.444147   547  5.713421  125.299530  \n2      1.000030  230.192884   532  5.400278  202.797256  \n3      1.000046  261.260361   511  5.388261  212.468048  \n4      1.000030  273.466073   489  5.504798  213.486359  \n...         ...         ...   ...       ...         ...  \n24608  1.000046  222.484163   399  5.406152  145.046783  \n24609  1.000046  266.933768   390  5.176757  171.371948  \n24610  1.000030  156.788903   537  5.393903  112.524010  \n24611  1.000053  182.512992   423  5.458598  116.212357  \n24612  1.000046  228.481413   419  5.389178  141.679062  \n\n[24613 rows x 20 columns]",
      "text/html": "<div>\n<style scoped>\n    .dataframe tbody tr th:only-of-type {\n        vertical-align: middle;\n    }\n\n    .dataframe tbody tr th {\n        vertical-align: top;\n    }\n\n    .dataframe thead th {\n        text-align: right;\n    }\n</style>\n<table border=\"1\" class=\"dataframe\">\n  <thead>\n    <tr style=\"text-align: right;\">\n      <th></th>\n      <th>Subject</th>\n      <th>Task</th>\n      <th>Epoch_id</th>\n      <th>Electrode</th>\n      <th>RR</th>\n      <th>DET</th>\n      <th>L</th>\n      <th>Lmax</th>\n      <th>DIV</th>\n      <th>Lentr</th>\n      <th>DET_RR</th>\n      <th>LAM</th>\n      <th>V</th>\n      <th>Vmax</th>\n      <th>Ventr</th>\n      <th>LAM_DET</th>\n      <th>W</th>\n      <th>Wmax</th>\n      <th>Wentr</th>\n      <th>TT</th>\n    </tr>\n  </thead>\n  <tbody>\n    <tr>\n      <th>0</th>\n      <td>S001</td>\n      <td>AV</td>\n      <td>0</td>\n      <td>Cz</td>\n      <td>0.350001</td>\n      <td>0.999939</td>\n      <td>92.137063</td>\n      <td>614</td>\n      <td>0.001629</td>\n      <td>4.986403</td>\n      <td>2.856964</td>\n      <td>0.999985</td>\n      <td>108.683908</td>\n      <td>272</td>\n      <td>5.123760</td>\n      <td>1.000046</td>\n      <td>145.297872</td>\n      <td>548</td>\n      <td>5.690874</td>\n      <td>109.507378</td>\n    </tr>\n    <tr>\n      <th>1</th>\n      <td>S001</td>\n      <td>AV</td>\n      <td>0</td>\n      <td>CPz</td>\n      <td>0.350001</td>\n      <td>0.999939</td>\n      <td>96.453880</td>\n      <td>614</td>\n      <td>0.001629</td>\n      <td>4.723190</td>\n      <td>2.856964</td>\n      <td>0.999985</td>\n      <td>124.531515</td>\n      <td>304</td>\n      <td>5.153666</td>\n      <td>1.000046</td>\n      <td>164.444147</td>\n      <td>547</td>\n      <td>5.713421</td>\n      <td>125.299530</td>\n    </tr>\n    <tr>\n      <th>2</th>\n      <td>S001</td>\n      <td>AV</td>\n      <td>0</td>\n      <td>POz</td>\n      <td>0.350001</td>\n      <td>0.999970</td>\n      <td>173.825858</td>\n      <td>614</td>\n      <td>0.001629</td>\n      <td>5.401010</td>\n      <td>2.857051</td>\n      <td>1.000000</td>\n      <td>201.797256</td>\n      <td>291</td>\n      <td>4.285085</td>\n      <td>1.000030</td>\n      <td>230.192884</td>\n      <td>532</td>\n      <td>5.400278</td>\n      <td>202.797256</td>\n    </tr>\n    <tr>\n      <th>3</th>\n      <td>S001</td>\n      <td>AV</td>\n      <td>0</td>\n      <td>Pz</td>\n      <td>0.350001</td>\n      <td>0.999954</td>\n      <td>162.664198</td>\n      <td>614</td>\n      <td>0.001629</td>\n      <td>5.516016</td>\n      <td>2.857007</td>\n      <td>1.000000</td>\n      <td>211.468051</td>\n      <td>288</td>\n      <td>4.593410</td>\n      <td>1.000046</td>\n      <td>261.260361</td>\n      <td>511</td>\n      <td>5.388261</td>\n      <td>212.468048</td>\n    </tr>\n    <tr>\n      <th>4</th>\n      <td>S001</td>\n      <td>AV</td>\n      <td>0</td>\n      <td>P1</td>\n      <td>0.350001</td>\n      <td>0.999970</td>\n      <td>167.208122</td>\n      <td>614</td>\n      <td>0.001629</td>\n      <td>5.518410</td>\n      <td>2.857051</td>\n      <td>1.000000</td>\n      <td>212.486356</td>\n      <td>280</td>\n      <td>4.508257</td>\n      <td>1.000030</td>\n      <td>273.466073</td>\n      <td>489</td>\n      <td>5.504798</td>\n      <td>213.486359</td>\n    </tr>\n    <tr>\n      <th>...</th>\n      <td>...</td>\n      <td>...</td>\n      <td>...</td>\n      <td>...</td>\n      <td>...</td>\n      <td>...</td>\n      <td>...</td>\n      <td>...</td>\n      <td>...</td>\n      <td>...</td>\n      <td>...</td>\n      <td>...</td>\n      <td>...</td>\n      <td>...</td>\n      <td>...</td>\n      <td>...</td>\n      <td>...</td>\n      <td>...</td>\n      <td>...</td>\n      <td>...</td>\n    </tr>\n    <tr>\n      <th>24608</th>\n      <td>S016</td>\n      <td>A</td>\n      <td>49</td>\n      <td>O1</td>\n      <td>0.350001</td>\n      <td>0.999954</td>\n      <td>105.744783</td>\n      <td>614</td>\n      <td>0.001629</td>\n      <td>4.863453</td>\n      <td>2.857007</td>\n      <td>1.000000</td>\n      <td>144.046790</td>\n      <td>327</td>\n      <td>5.028337</td>\n      <td>1.000046</td>\n      <td>222.484163</td>\n      <td>399</td>\n      <td>5.406152</td>\n      <td>145.046783</td>\n    </tr>\n    <tr>\n      <th>24609</th>\n      <td>S016</td>\n      <td>A</td>\n      <td>49</td>\n      <td>O2</td>\n      <td>0.350001</td>\n      <td>0.999954</td>\n      <td>122.679702</td>\n      <td>614</td>\n      <td>0.001629</td>\n      <td>5.193413</td>\n      <td>2.857007</td>\n      <td>1.000000</td>\n      <td>170.371943</td>\n      <td>292</td>\n      <td>4.764443</td>\n      <td>1.000046</td>\n      <td>266.933768</td>\n      <td>390</td>\n      <td>5.176757</td>\n      <td>171.371948</td>\n    </tr>\n    <tr>\n      <th>24610</th>\n      <td>S016</td>\n      <td>A</td>\n      <td>49</td>\n      <td>T7</td>\n      <td>0.350001</td>\n      <td>0.999970</td>\n      <td>85.669701</td>\n      <td>614</td>\n      <td>0.001629</td>\n      <td>4.741894</td>\n      <td>2.857051</td>\n      <td>1.000000</td>\n      <td>111.524010</td>\n      <td>339</td>\n      <td>5.078804</td>\n      <td>1.000030</td>\n      <td>156.788903</td>\n      <td>537</td>\n      <td>5.393903</td>\n      <td>112.524010</td>\n    </tr>\n    <tr>\n      <th>24611</th>\n      <td>S016</td>\n      <td>A</td>\n      <td>49</td>\n      <td>P3</td>\n      <td>0.350001</td>\n      <td>0.999939</td>\n      <td>81.230580</td>\n      <td>614</td>\n      <td>0.001629</td>\n      <td>4.822760</td>\n      <td>2.856964</td>\n      <td>0.999992</td>\n      <td>115.311847</td>\n      <td>285</td>\n      <td>5.142869</td>\n      <td>1.000053</td>\n      <td>182.512992</td>\n      <td>423</td>\n      <td>5.458598</td>\n      <td>116.212357</td>\n    </tr>\n    <tr>\n      <th>24612</th>\n      <td>S016</td>\n      <td>A</td>\n      <td>49</td>\n      <td>P4</td>\n      <td>0.350001</td>\n      <td>0.999954</td>\n      <td>94.517934</td>\n      <td>614</td>\n      <td>0.001629</td>\n      <td>4.958671</td>\n      <td>2.857007</td>\n      <td>1.000000</td>\n      <td>140.679065</td>\n      <td>267</td>\n      <td>4.711011</td>\n      <td>1.000046</td>\n      <td>228.481413</td>\n      <td>419</td>\n      <td>5.389178</td>\n      <td>141.679062</td>\n    </tr>\n  </tbody>\n</table>\n<p>24613 rows × 20 columns</p>\n</div>"
     },
     "execution_count": 50,
     "metadata": {},
     "output_type": "execute_result"
    },
    {
     "name": "stdout",
     "output_type": "stream",
     "text": [
      "time: 11.1 ms (started: 2022-07-19 00:20:12 +02:00)\n"
     ]
    }
   ],
   "source": [
    "df_stft"
   ],
   "metadata": {
    "collapsed": false,
    "pycharm": {
     "name": "#%%\n"
    }
   }
  },
  {
   "cell_type": "code",
   "execution_count": 51,
   "outputs": [
    {
     "data": {
      "text/plain": "Empty DataFrame\nColumns: [Subject, Task, Electrode, RR, DET, L, Lmax, DIV, Lentr, DET_RR, LAM, V, Vmax, Ventr, LAM_DET, W, Wmax, Wentr, TT]\nIndex: []",
      "text/html": "<div>\n<style scoped>\n    .dataframe tbody tr th:only-of-type {\n        vertical-align: middle;\n    }\n\n    .dataframe tbody tr th {\n        vertical-align: top;\n    }\n\n    .dataframe thead th {\n        text-align: right;\n    }\n</style>\n<table border=\"1\" class=\"dataframe\">\n  <thead>\n    <tr style=\"text-align: right;\">\n      <th></th>\n      <th>Subject</th>\n      <th>Task</th>\n      <th>Electrode</th>\n      <th>RR</th>\n      <th>DET</th>\n      <th>L</th>\n      <th>Lmax</th>\n      <th>DIV</th>\n      <th>Lentr</th>\n      <th>DET_RR</th>\n      <th>LAM</th>\n      <th>V</th>\n      <th>Vmax</th>\n      <th>Ventr</th>\n      <th>LAM_DET</th>\n      <th>W</th>\n      <th>Wmax</th>\n      <th>Wentr</th>\n      <th>TT</th>\n    </tr>\n  </thead>\n  <tbody>\n  </tbody>\n</table>\n</div>"
     },
     "execution_count": 51,
     "metadata": {},
     "output_type": "execute_result"
    },
    {
     "name": "stdout",
     "output_type": "stream",
     "text": [
      "time: 4.62 ms (started: 2022-07-19 00:20:12 +02:00)\n"
     ]
    }
   ],
   "source": [
    "df_tdemb"
   ],
   "metadata": {
    "collapsed": false,
    "pycharm": {
     "name": "#%%\n"
    }
   }
  },
  {
   "cell_type": "code",
   "execution_count": 52,
   "outputs": [
    {
     "name": "stdout",
     "output_type": "stream",
     "text": [
      "time: 431 µs (started: 2022-07-19 00:20:12 +02:00)\n"
     ]
    }
   ],
   "source": [
    "    # for task, task_io in epoch:\n",
    "#     for eid in tqdm(range(16)):\n",
    "#\n",
    "#         signal = task[eid]\n",
    "#\n",
    "#         norm_signal = normalize(signal)\n",
    "#\n",
    "#         matrix_tdemb = distance_matrix.EuclideanPyRQA_RP(norm_signal, embedding=5, timedelay=9)\n",
    "#         nbr_tdemb = np.percentile(matrix_tdemb, percentile_var)\n",
    "#         matrix_binary_tdemb = distance_matrix.set_epsilon(matrix_tdemb, nbr_tdemb)\n",
    "#\n",
    "#         result_rqa_tdemb = recurrence_quantification_analysis.get_results(matrix_binary_tdemb,2,2,2)\n",
    "#         results_parameters_tdemb.append([Subject_id, task_io, run.ch_names[eid]] + result_rqa_tdemb)\n",
    "#         # plt.imshow(matrix_binary_tdemb, cmap='cividis', origin='lower')\n",
    "#\n",
    "#         cut_freq = 60\n",
    "#         stft = vector_space.compute_stft(norm_signal,\n",
    "#                                          n_fft=n_fft, win_len=win_len,\n",
    "#                                          s_rate=run.info['sfreq'],\n",
    "#                                          cut_freq=cut_freq)\n",
    "#\n",
    "#         matrix_stft = distance_matrix.EuclideanPyRQA_RP_stft(stft)\n",
    "#         nbr_stft = np.percentile(matrix_stft, percentile_var)\n",
    "#         matrix_binary_stft = distance_matrix.set_epsilon(matrix_stft, nbr_stft)\n",
    "#\n",
    "#         result_rqa_stft = recurrence_quantification_analysis.get_results(matrix_binary_stft,2,2,2)\n",
    "#         results_parameters_stft.append([Subject_id, task_io, run.ch_names[eid]] + result_rqa_stft)"
   ],
   "metadata": {
    "collapsed": false,
    "pycharm": {
     "name": "#%%\n"
    }
   }
  }
 ],
 "metadata": {
  "kernelspec": {
   "display_name": "Python 3",
   "language": "python",
   "name": "python3"
  },
  "language_info": {
   "codemirror_mode": {
    "name": "ipython",
    "version": 2
   },
   "file_extension": ".py",
   "mimetype": "text/x-python",
   "name": "python",
   "nbconvert_exporter": "python",
   "pygments_lexer": "ipython2",
   "version": "2.7.6"
  }
 },
 "nbformat": 4,
 "nbformat_minor": 0
}