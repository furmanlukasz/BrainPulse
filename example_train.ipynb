{
 "cells": [
  {
   "cell_type": "code",
   "execution_count": 1,
   "metadata": {
    "collapsed": true,
    "pycharm": {
     "name": "#%%\n"
    }
   },
   "outputs": [],
   "source": [
    "import matplotlib.pyplot as plt\n",
    "import pandas as pd\n",
    "import numpy as np\n",
    "from BrainPulse import features_space,plot"
   ]
  },
  {
   "cell_type": "code",
   "execution_count": 2,
   "outputs": [],
   "source": [
    "#STFT\n",
    "# df = features_space.load_features_csv_concat('/Users/luki/DataspellProjects/BrainPulse_Project/Results/stft')\n"
   ],
   "metadata": {
    "collapsed": false,
    "pycharm": {
     "name": "#%%\n"
    }
   }
  },
  {
   "cell_type": "code",
   "execution_count": 3,
   "outputs": [],
   "source": [
    "e_list = ['Cz', 'CPz', 'POz', 'Pz', 'P1', 'P2', 'C3', 'C4', 'O1', 'O2', 'T7', 'T8', 'P3', 'P4', 'F3', 'F4']"
   ],
   "metadata": {
    "collapsed": false,
    "pycharm": {
     "name": "#%%\n"
    }
   }
  },
  {
   "cell_type": "code",
   "execution_count": 32,
   "outputs": [],
   "source": [
    "#ERP STFT\n",
    "df = features_space.load_features_csv_concat('/Users/luki/DataspellProjects/BrainPulse_Project/Results/epoch_stft')"
   ],
   "metadata": {
    "collapsed": false,
    "pycharm": {
     "name": "#%%\n"
    }
   }
  },
  {
   "cell_type": "code",
   "execution_count": null,
   "outputs": [],
   "source": [
    "df"
   ],
   "metadata": {
    "collapsed": false,
    "pycharm": {
     "name": "#%%\n",
     "is_executing": true
    }
   }
  },
  {
   "cell_type": "code",
   "execution_count": 6,
   "outputs": [],
   "source": [
    "#ERP TDEMB\n",
    "# df = features_space.load_features_csv_concat('/Users/luki/DataspellProjects/BrainPulse_Project/Results/erp_tdemb')"
   ],
   "metadata": {
    "collapsed": false,
    "pycharm": {
     "name": "#%%\n"
    }
   }
  },
  {
   "cell_type": "code",
   "execution_count": 7,
   "outputs": [],
   "source": [
    "# import pandas as pd\n",
    "# df = pd.concat([pd.read_csv('/Users/luki/DataspellProjects/BrainPulse_Project/Results/tdemb/1df_tdemb_4th_50.csv'),pd.read_csv('/Users/luki/DataspellProjects/BrainPulse_Project/Results/tdemb/2df_tdemb_4th_100.csv')]).reset_index(drop=True)"
   ],
   "metadata": {
    "collapsed": false,
    "pycharm": {
     "name": "#%%\n"
    }
   }
  },
  {
   "cell_type": "code",
   "execution_count": null,
   "outputs": [],
   "source": [
    "temp_list = []\n",
    "\n",
    "for sub_id in range(1,17):\n",
    "\n",
    "    Subject_id = 'S'+ str(f'{sub_id:03}')\n",
    "\n",
    "    df_Subject = df.groupby('Subject')\n",
    "    S1 = df_Subject.get_group(Subject_id)\n",
    "    Task = S1.groupby('Task')\n",
    "    S1_A = Task.get_group('A')\n",
    "    S1_AV = Task.get_group('AV')\n",
    "    electrode_A = S1_A.groupby('Electrode')\n",
    "    electrode_AV = S1_AV.groupby('Electrode')\n",
    "\n",
    "    features_A = electrode_A['Lentr', 'TT', 'L', 'RR', 'LAM', 'DET', 'V','Vmax', 'Ventr', 'W', 'Wentr'].mean().apply(lambda x:x)\n",
    "    names_cols_A = pd.DataFrame(np.array([[Subject_id]*16,['A']*16]).T,columns=['Subject', 'Task'])\n",
    "\n",
    "    features_AV = electrode_AV['Lentr', 'TT', 'L', 'RR', 'LAM', 'DET', 'V','Vmax', 'Ventr', 'W', 'Wentr'].mean().apply(lambda x:x)\n",
    "    names_cols_AV = pd.DataFrame(np.array([[Subject_id]*16,['AV']*16]).T,columns=['Subject', 'Task'])\n",
    "\n",
    "    newA = pd.concat([names_cols_A,features_A.reset_index()],axis=1)\n",
    "    newAV = pd.concat([names_cols_AV,features_AV.reset_index()],axis=1)\n",
    "    subjectMean = pd.concat([newA,newAV]).reset_index(drop=True)\n",
    "    temp_list.append(subjectMean)\n",
    "\n",
    "new_df = pd.concat(temp_list).reset_index(drop=True)"
   ],
   "metadata": {
    "collapsed": false,
    "pycharm": {
     "name": "#%%\n",
     "is_executing": true
    }
   }
  },
  {
   "cell_type": "code",
   "execution_count": null,
   "outputs": [],
   "source": [
    "new_df\n"
   ],
   "metadata": {
    "collapsed": false,
    "pycharm": {
     "name": "#%%\n",
     "is_executing": true
    }
   }
  },
  {
   "cell_type": "code",
   "execution_count": 10,
   "outputs": [],
   "source": [
    "#TDEMB\n",
    "# df = features_space.load_features_csv_concat('/Users/luki/DataspellProjects/BrainPulse_Project/Results/tdemb')\n"
   ],
   "metadata": {
    "collapsed": false,
    "pycharm": {
     "name": "#%%\n"
    }
   }
  },
  {
   "cell_type": "code",
   "execution_count": 11,
   "outputs": [],
   "source": [
    "# df"
   ],
   "metadata": {
    "collapsed": false,
    "pycharm": {
     "name": "#%%\n"
    }
   }
  },
  {
   "cell_type": "code",
   "execution_count": 37,
   "outputs": [],
   "source": [
    "df_e_wise, y = features_space.electrode_wise_dataframe(new_df,condition_list=['AV','A']) #['open_eyes','closed_eyes']"
   ],
   "metadata": {
    "collapsed": false,
    "pycharm": {
     "name": "#%%\n"
    }
   }
  },
  {
   "cell_type": "code",
   "execution_count": 10,
   "outputs": [],
   "source": [
    "df_e_wise, y = features_space.electrode_wise_dataframe_epochs(df,condition_list=['AV','A']) #['open_eyes','closed_eyes']\n"
   ],
   "metadata": {
    "collapsed": false,
    "pycharm": {
     "name": "#%%\n"
    }
   }
  },
  {
   "cell_type": "code",
   "execution_count": null,
   "outputs": [],
   "source": [
    "df_e_wise"
   ],
   "metadata": {
    "collapsed": false,
    "pycharm": {
     "name": "#%%\n",
     "is_executing": true
    }
   }
  },
  {
   "cell_type": "code",
   "execution_count": 39,
   "outputs": [],
   "source": [
    "df_norm = features_space.select_features_clean_and_normalize(df_e_wise,features=['Lentr', 'TT', 'L'])"
   ],
   "metadata": {
    "collapsed": false,
    "pycharm": {
     "name": "#%%\n"
    }
   }
  },
  {
   "cell_type": "code",
   "execution_count": null,
   "outputs": [],
   "source": [
    "df_cv = features_space.cross_validation(df_norm,y,cv=10,type='linear')"
   ],
   "metadata": {
    "collapsed": false,
    "pycharm": {
     "name": "#%%\n",
     "is_executing": true
    }
   }
  },
  {
   "cell_type": "code",
   "execution_count": null,
   "outputs": [],
   "source": [
    "features_space.clasyfication_SVM(df_cv,y,cv=10,type='poly')"
   ],
   "metadata": {
    "collapsed": false,
    "pycharm": {
     "name": "#%%\n",
     "is_executing": true
    }
   }
  },
  {
   "cell_type": "code",
   "execution_count": null,
   "outputs": [],
   "source": [
    "features_space.clasyfication_RFC(df_cv,y,cv=10,max_depth=2)"
   ],
   "metadata": {
    "collapsed": false,
    "pycharm": {
     "name": "#%%\n",
     "is_executing": true
    }
   }
  },
  {
   "cell_type": "code",
   "execution_count": null,
   "outputs": [],
   "source": [
    "lin, lin_pred = features_space.compute_binary_SVM(df_cv,y,predict_on_all_data = True,type='linear')"
   ],
   "metadata": {
    "collapsed": false,
    "pycharm": {
     "name": "#%%\n",
     "is_executing": true
    }
   }
  },
  {
   "cell_type": "code",
   "execution_count": null,
   "outputs": [],
   "source": [
    "lin.coef_"
   ],
   "metadata": {
    "collapsed": false,
    "pycharm": {
     "name": "#%%\n",
     "is_executing": true
    }
   }
  },
  {
   "cell_type": "code",
   "execution_count": null,
   "outputs": [],
   "source": [
    "plot.SVM_histogram(df_cv, lin, lin_pred,'')\n"
   ],
   "metadata": {
    "collapsed": false,
    "pycharm": {
     "name": "#%%\n",
     "is_executing": true
    }
   }
  },
  {
   "cell_type": "code",
   "execution_count": null,
   "outputs": [],
   "source": [
    "plot.umap_on_condition(df_cv,y,'(a)  STFT ')"
   ],
   "metadata": {
    "collapsed": false,
    "pycharm": {
     "name": "#%%\n",
     "is_executing": true
    }
   }
  },
  {
   "cell_type": "code",
   "execution_count": null,
   "outputs": [],
   "source": [
    "plot.umap_on_condition(df_e_wise,y,'STFT ',df_type=False)"
   ],
   "metadata": {
    "collapsed": false,
    "pycharm": {
     "name": "#%%\n",
     "is_executing": true
    }
   }
  },
  {
   "cell_type": "code",
   "execution_count": 28,
   "outputs": [],
   "source": [
    "dff=df[['RR', 'DET', 'L', 'Lmax', 'DIV',\n",
    "        'Lentr', 'DET_RR', 'LAM', 'V',\n",
    "        'Vmax', 'Ventr', 'LAM_DET', 'W',\n",
    "        'Wmax', 'Wentr', 'TT']]\n",
    "\n",
    "features=['RR', 'DET', 'L', 'Lmax', 'DIV',\n",
    "          'Lentr', 'DET_RR', 'LAM', 'V',\n",
    "          'Vmax', 'Ventr', 'LAM_DET', 'W',\n",
    "          'Wmax', 'Wentr', 'TT']\n"
   ],
   "metadata": {
    "collapsed": false,
    "pycharm": {
     "name": "#%%\n"
    }
   }
  },
  {
   "cell_type": "code",
   "execution_count": null,
   "outputs": [],
   "source": [
    "df"
   ],
   "metadata": {
    "collapsed": false,
    "pycharm": {
     "name": "#%%\n",
     "is_executing": true
    }
   }
  },
  {
   "cell_type": "code",
   "execution_count": null,
   "outputs": [],
   "source": [
    "import rcr\n",
    "import numpy as np\n",
    "import pandas as pd\n",
    "df_ = df\n",
    "stats_data_cleaned=df_[['RR', 'DET', 'L', 'Lmax', 'DIV',\n",
    "                        'Lentr', 'DET_RR', 'LAM', 'V',\n",
    "                        'Vmax', 'Ventr', 'LAM_DET', 'W',\n",
    "                        'Wmax', 'Wentr', 'TT']]\n",
    "stats_data_cleaned[:]=np.nan\n",
    "r = rcr.RCR(rcr.SS_MEDIAN_DL)\n",
    "\n",
    "for f in features:\n",
    "\n",
    "    r.performBulkRejection(df_[f])\n",
    "    cleaned_data_indices = r.result.indices\n",
    "    stats_data_cleaned[f][cleaned_data_indices]=dff[f][cleaned_data_indices]"
   ],
   "metadata": {
    "collapsed": false,
    "pycharm": {
     "name": "#%%\n",
     "is_executing": true
    }
   }
  },
  {
   "cell_type": "code",
   "execution_count": 79,
   "outputs": [],
   "source": [
    "# df = features_space.load_features_csv_concat('/Users/luki/DataspellProjects/BrainPulse_Project/Results/erp_stft')\n",
    "#\n",
    "# df_stats_data_cleaned = pd.DataFrame(df, columns=['RR', 'DET', 'L', 'Lmax', 'DIV',\n",
    "#                                                   'Lentr', 'DET_RR', 'LAM', 'V',\n",
    "#                                                   'Vmax', 'Ventr', 'LAM_DET', 'W',\n",
    "#                                                   'Wmax', 'Wentr', 'TT'])\n",
    "# df[['RR', 'DET', 'L', 'Lmax', 'DIV',\n",
    "#     'Lentr', 'DET_RR', 'LAM', 'V',\n",
    "#     'Vmax', 'Ventr', 'LAM_DET', 'W',\n",
    "#     'Wmax', 'Wentr', 'TT']] = df_stats_data_cleaned\n",
    "#\n",
    "# cols_to_norm = ['RR', 'DET', 'L', 'Lmax', 'DIV',\n",
    "#                 'Lentr', 'DET_RR', 'LAM', 'V',\n",
    "#                 'Vmax', 'Ventr', 'LAM_DET', 'W',\n",
    "#                 'Wmax', 'Wentr', 'TT']\n",
    "# df[cols_to_norm] = df[cols_to_norm].apply(lambda x: (x - x.min()) / (x.max() - x.min()), axis=0)"
   ],
   "metadata": {
    "collapsed": false,
    "pycharm": {
     "name": "#%%\n"
    }
   }
  },
  {
   "cell_type": "code",
   "execution_count": null,
   "outputs": [],
   "source": [
    "# import matplotlib.pyplot as plt\n",
    "# plt.style.use('dark_background')\n",
    "# df = df.iloc[: , 1:]\n",
    "# fig, axs = plt.subplots(nrows=len(cols_to_norm),ncols=1,figsize=(10,30),dpi=240)\n",
    "# for i,n in enumerate(axs):\n",
    "#     df[cols_to_norm[i]].plot(ax = n,title=cols_to_norm[i])\n",
    "# # plt.tight_layout()"
   ],
   "metadata": {
    "collapsed": false,
    "pycharm": {
     "name": "#%%\n"
    }
   }
  },
  {
   "cell_type": "code",
   "execution_count": null,
   "outputs": [],
   "source": [
    "plot.features_hists(df=df,features_list= ['TT', 'RR', 'DET', 'LAM', 'L', 'Lentr'], condition='Task')"
   ],
   "metadata": {
    "collapsed": false,
    "pycharm": {
     "name": "#%%\n",
     "is_executing": true
    }
   }
  },
  {
   "cell_type": "code",
   "execution_count": null,
   "outputs": [],
   "source": [
    "df"
   ],
   "metadata": {
    "collapsed": false,
    "pycharm": {
     "name": "#%%\n",
     "is_executing": true
    }
   }
  },
  {
   "cell_type": "code",
   "execution_count": null,
   "outputs": [],
   "source": [
    "plot.features_per_subjects_violin(df=df,features_list=['Lentr', 'TT', 'L'], condition='Task')\n"
   ],
   "metadata": {
    "collapsed": false,
    "pycharm": {
     "name": "#%%\n",
     "is_executing": true
    }
   }
  },
  {
   "cell_type": "code",
   "execution_count": null,
   "outputs": [],
   "source": [
    "# Subject_id = 'S'+ str(f'{sub_id:03}')\n",
    "# df_Subject = df.groupby('Subject')\n",
    "# S1 = df_Subject.get_group('S001')\n",
    "# Task = S1.groupby('Task')\n",
    "# S1_A = Task.get_group('A')\n",
    "# S1_AV = Task.get_group('AV')\n",
    "# electrode_A = S1_A.groupby('Electrode')\n",
    "# electrode_AV = S1_AV.groupby('Electrode')\n",
    "#\n",
    "# features_A = electrode_A['Lentr', 'TT', 'L', 'RR', 'LAM', 'DET', 'V','Vmax', 'Ventr', 'W', 'Wentr'].mean().apply(lambda x:x)\n",
    "# names_cols_A = pd.DataFrame(np.array([['S001']*16,['A']*16]).T,columns=['Subject', 'Task'])\n",
    "#\n",
    "# features_AV = electrode_AV['Lentr', 'TT', 'L', 'RR', 'LAM', 'DET', 'V','Vmax', 'Ventr', 'W', 'Wentr'].mean().apply(lambda x:x)\n",
    "# names_cols_AV = pd.DataFrame(np.array([['S001']*16,['AV']*16]).T,columns=['Subject', 'Task'])\n",
    "#\n",
    "# newA = pd.concat([names_cols_A,features_A.reset_index()],axis=1)\n",
    "# newAV = pd.concat([names_cols_AV,features_AV.reset_index()],axis=1)\n",
    "# subjectMean = pd.concat([newA,newAV]).reset_index(drop=True)\n",
    "# subjectMean"
   ],
   "metadata": {
    "collapsed": false,
    "pycharm": {
     "name": "#%%\n"
    }
   }
  }
 ],
 "metadata": {
  "kernelspec": {
   "display_name": "Python 3",
   "language": "python",
   "name": "python3"
  },
  "language_info": {
   "codemirror_mode": {
    "name": "ipython",
    "version": 2
   },
   "file_extension": ".py",
   "mimetype": "text/x-python",
   "name": "python",
   "nbconvert_exporter": "python",
   "pygments_lexer": "ipython2",
   "version": "2.7.6"
  }
 },
 "nbformat": 4,
 "nbformat_minor": 0
}